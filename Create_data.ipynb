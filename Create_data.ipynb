{
 "cells": [
  {
   "cell_type": "code",
   "execution_count": 25,
   "metadata": {
    "ExecuteTime": {
     "end_time": "2019-09-15T19:15:21.656763Z",
     "start_time": "2019-09-15T19:15:21.303881Z"
    }
   },
   "outputs": [],
   "source": [
    "import os\n",
    "import gc\n",
    "import numpy as np\n",
    "import pandas as pd\n",
    "import joblib\n",
    "from datetime import datetime\n",
    "\n",
    "from lightgbm import LGBMClassifier\n",
    "import optuna\n",
    "from prunedcv import PrunedCV\n",
    "\n",
    "from codes.utils import import_data, cross_val_score_auc, reduce_mem_usage, fix_dtypes\n",
    "from codes.fe_browser import latest\n",
    "from codes.fe_emails import proton, mappings\n",
    "from codes.fe_cards import stats\n",
    "from codes.fe_date import dates\n",
    "from codes.fe_relatives import divisions, divisions_float\n",
    "from codes.fe_categorical import pairs, wtf, cat_limit, encode_cat\n",
    "from codes.prepro import prepro\n",
    "from codes.fe_users import users_stats\n",
    "\n",
    "from sklearn.feature_selection import SelectFromModel\n",
    "from sklearn.pipeline import make_pipeline\n",
    "from sklearn.base import TransformerMixin"
   ]
  },
  {
   "cell_type": "code",
   "execution_count": 30,
   "metadata": {
    "ExecuteTime": {
     "end_time": "2019-09-16T06:07:07.485141Z",
     "start_time": "2019-09-16T06:07:07.467616Z"
    }
   },
   "outputs": [],
   "source": [
    "DATA_PATH = '../input/'"
   ]
  },
  {
   "cell_type": "code",
   "execution_count": null,
   "metadata": {},
   "outputs": [],
   "source": [
    "if os.path.isfile('features_train.pkl'):\n",
    "    X_train = joblib.load('features_train.pkl')\n",
    "    X_test = joblib.load('features_test.pkl')\n",
    "    y_train = joblib.load('y_train.pkl')\n",
    "    \n",
    "else:\n",
    "\n",
    "    print('fix_dtypes')\n",
    "    X_train, X_test = fix_dtypes(X_train, X_test)\n",
    "    print('users_stats')\n",
    "    X_train, X_test = users_stats(X_train, X_test)\n",
    "    print('latest')\n",
    "    X_train, X_test = latest(X_train, X_test)\n",
    "    print('proton')\n",
    "    X_train, X_test = proton(X_train, X_test)\n",
    "    print('nulls1')\n",
    "    X_train['nulls1'] = X_train.isna().sum(axis=1)\n",
    "    X_test['nulls1'] = X_test.isna().sum(axis=1)\n",
    "    print('mappings')\n",
    "    X_train, X_test = mappings(X_train, X_test)\n",
    "    print('stats')\n",
    "    X_train, X_test = stats(X_train, X_test)\n",
    "    print('divisions')\n",
    "    X_train, X_test = divisions(X_train, X_test)\n",
    "    print('dates')\n",
    "    X_train, X_test = dates(X_train, X_test)\n",
    "    print('pairs')\n",
    "    X_train, X_test = pairs(X_train, X_test)\n",
    "    print('encode_cat')\n",
    "    X_train, X_test = encode_cat(X_train, X_test)\n",
    "    print('wtf')\n",
    "    X_train, X_test = wtf(X_train, X_test)\n",
    "    print('y')\n",
    "    y_train = X_train['isFraud'].copy()\n",
    "    X_train = X_train.drop('isFraud', axis=1)\n",
    "    print('divisions_float')\n",
    "    X_train, X_test = divisions_float(X_train, X_test)\n",
    "    print('prepro')\n",
    "    X_train, X_test = prepro(X_train, X_test)\n",
    "    print('reduce_mem_usage')\n",
    "    # X_train = reduce_mem_usage(X_train)\n",
    "    # X_test = reduce_mem_usage(X_test)\n",
    "    print('np.inf')\n",
    "    X_train[X_train == np.inf] = -999\n",
    "    X_train[X_train == -np.inf] = -999\n",
    "    X_train[X_train.isna()] = -999\n",
    "    X_test[X_test == np.inf] = -999\n",
    "    X_test[X_test == -np.inf] = -999\n",
    "    X_test[X_test.isna()] = -999\n",
    "    print('TransactionDT')\n",
    "    X_test.drop(['TransactionDT'], axis=1, inplace=True)\n",
    "    X_train.drop(['TransactionDT'], axis=1, inplace=True)\n",
    "    joblib.dump(X_train, 'features_train.pkl')\n",
    "    joblib.dump(X_test, 'features_test.pkl')\n",
    "    joblib.dump(y_train, 'y_train.pkl')"
   ]
  },
  {
   "cell_type": "code",
   "execution_count": null,
   "metadata": {},
   "outputs": [],
   "source": [
    "all_columns = list(X_train.columns)\n",
    "\n",
    "columns_num_base = list(set(\n",
    "    ['TransactionAmt',\n",
    "     'user_trx_cnt',\n",
    "     'nulls1',\n",
    "     'dist1',\n",
    "     'dist2'] +\n",
    "    ['C{}'.format(i) for i in range(1,15)] \\\n",
    "    + ['D{}'.format(i) for i in range(1,16)] \\\n",
    "    + ['V' + str(i) for i in range(1,340)]))\n",
    "\n",
    "num_cols = []\n",
    "for col in all_columns:\n",
    "    for col2 in columns_num_base:\n",
    "        if col2 in col:\n",
    "            num_cols.append(col)\n",
    "            \n",
    "spec_nums = ['_count_', \n",
    "             '_mean_', \n",
    "             '_std_', \n",
    "             'Transaction_day_of_week',\n",
    "             'Transaction_hour_of_day']\n",
    "spec_nums_cols = []\n",
    "for col in all_columns:\n",
    "    for col2 in spec_nums:\n",
    "        if col2 in col:\n",
    "            spec_nums_cols.append(col)\n",
    "\n",
    "num_cols = list(set(num_cols + columns_num_base + spec_nums_cols))\n",
    "cat_cols = [col for col in all_columns if col not in num_cols]"
   ]
  },
  {
   "cell_type": "code",
   "execution_count": null,
   "metadata": {},
   "outputs": [],
   "source": [
    "num_cols_fin = [col for col in num_cols if col in list(X_train.columns)]\n",
    "cat_cols_fin = [col for col in cat_cols if col in list(X_train.columns)]"
   ]
  },
  {
   "cell_type": "code",
   "execution_count": null,
   "metadata": {},
   "outputs": [],
   "source": [
    "CORR = .99\n",
    "X_corr = X_train.loc[:, num_cols_fin]\n",
    "print('calculating corrs 1 for ', X_corr.shape[1])\n",
    "corr_matrix = X_corr.corr(method='spearman').abs()\n",
    "del X_corr\n",
    "upper = corr_matrix.where(np.triu(np.ones(corr_matrix.shape), k=1).astype(np.bool))\n",
    "to_drop = [column for column in upper.columns if any(upper[column] > CORR)]\n",
    "print('dropped because of high corr (', CORR, '): ', len(to_drop))\n",
    "X_train.drop(to_drop, axis=1, inplace=True)\n",
    "X_test.drop(to_drop, axis=1, inplace=True)\n",
    "joblib.dump(X_train, 'features_train.pkl')\n",
    "joblib.dump(X_test, 'features_test.pkl')"
   ]
  }
 ],
 "metadata": {
  "kernelspec": {
   "display_name": "Python 3",
   "language": "python",
   "name": "python3"
  },
  "language_info": {
   "codemirror_mode": {
    "name": "ipython",
    "version": 3
   },
   "file_extension": ".py",
   "mimetype": "text/x-python",
   "name": "python",
   "nbconvert_exporter": "python",
   "pygments_lexer": "ipython3",
   "version": "3.6.8"
  }
 },
 "nbformat": 4,
 "nbformat_minor": 2
}
