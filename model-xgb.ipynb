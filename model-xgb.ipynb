{
 "cells": [
  {
   "cell_type": "code",
   "execution_count": 1,
   "metadata": {
    "ExecuteTime": {
     "end_time": "2019-10-01T09:04:28.868419Z",
     "start_time": "2019-10-01T09:04:26.027546Z"
    }
   },
   "outputs": [],
   "source": [
    "import os\n",
    "import numpy as np\n",
    "import pandas as pd\n",
    "import joblib\n",
    "from datetime import datetime\n",
    "from datetime import timedelta\n",
    "\n",
    "from xgboost import XGBClassifier\n",
    "import optuna\n",
    "\n",
    "from codes.utils import cross_val_score_auc, PrunedCV, seed_everything"
   ]
  },
  {
   "cell_type": "code",
   "execution_count": 2,
   "metadata": {
    "ExecuteTime": {
     "end_time": "2019-10-01T09:04:28.875097Z",
     "start_time": "2019-10-01T09:04:28.870981Z"
    },
    "lines_to_next_cell": 2
   },
   "outputs": [],
   "source": [
    "SEARCH_PARAMS = False\n",
    "N_FOLD = 8\n",
    "BOOSTING = 'xgb'\n",
    "RANDOM_STATE = 42\n",
    "START_DATE = datetime.strptime('2017-11-30', '%Y-%m-%d')\n",
    "seed_everything(RANDOM_STATE)"
   ]
  },
  {
   "cell_type": "code",
   "execution_count": 3,
   "metadata": {
    "ExecuteTime": {
     "end_time": "2019-10-01T09:04:32.552102Z",
     "start_time": "2019-10-01T09:04:28.877594Z"
    }
   },
   "outputs": [],
   "source": [
    "y_train = joblib.load('y_train.pkl')\n",
    "X_train = joblib.load('features_train.pkl')\n",
    "X_test = joblib.load('features_test.pkl')\n",
    "sample_submission = pd.read_csv('../input/sample_submission.csv', index_col=0)\n",
    "group_split = X_train.DT_M"
   ]
  },
  {
   "cell_type": "code",
   "execution_count": 4,
   "metadata": {
    "ExecuteTime": {
     "end_time": "2019-10-01T09:04:32.556312Z",
     "start_time": "2019-10-01T09:04:32.553745Z"
    }
   },
   "outputs": [],
   "source": [
    "# train_df = joblib.load('train.pkl')[['TransactionDT']]\n",
    "# train_df['DT_M'] = train_df['TransactionDT'].apply(lambda x: (START_DATE + timedelta(seconds = x)))\n",
    "# train_df['DT_M'] = (train_df['DT_M'].dt.year-2017)*12 + train_df['DT_M'].dt.month \n",
    "# train_df = train_df[train_df['DT_M']<(train_df['DT_M'].max())]\n",
    "\n",
    "# X_train['DT_M'] = train_df['DT_M']\n",
    "# X_train['DT_M'].fillna(17, inplace=True)"
   ]
  },
  {
   "cell_type": "code",
   "execution_count": 5,
   "metadata": {
    "ExecuteTime": {
     "end_time": "2019-10-01T09:04:34.133310Z",
     "start_time": "2019-10-01T09:04:32.558764Z"
    }
   },
   "outputs": [],
   "source": [
    "seed_everything(RANDOM_STATE)\n",
    "y_sampled = pd.concat([y_train[y_train == 1], y_train[y_train == 0].sample(frac=0.2)])\n",
    "X_train_sampled = X_train.loc[y_sampled.index, :]\n",
    "group_split_sampled = X_train_sampled.DT_M\n",
    "X_train_sampled.drop('DT_M', axis=1, inplace=True)\n",
    "X_train.drop('DT_M', axis=1, inplace=True)"
   ]
  },
  {
   "cell_type": "code",
   "execution_count": 6,
   "metadata": {
    "ExecuteTime": {
     "end_time": "2019-10-01T09:04:34.143875Z",
     "start_time": "2019-10-01T09:04:34.136310Z"
    }
   },
   "outputs": [],
   "source": [
    "study = joblib.load('study_{}.pkl'.format(BOOSTING))"
   ]
  },
  {
   "cell_type": "markdown",
   "metadata": {},
   "source": [
    "### Model and training"
   ]
  },
  {
   "cell_type": "code",
   "execution_count": 7,
   "metadata": {
    "ExecuteTime": {
     "end_time": "2019-10-01T09:04:34.165529Z",
     "start_time": "2019-10-01T09:04:34.145972Z"
    }
   },
   "outputs": [],
   "source": [
    "del X_train_sampled, y_sampled, group_split_sampled, group_split"
   ]
  },
  {
   "cell_type": "code",
   "execution_count": 8,
   "metadata": {
    "ExecuteTime": {
     "end_time": "2019-10-01T09:04:34.171489Z",
     "start_time": "2019-10-01T09:04:34.167660Z"
    }
   },
   "outputs": [],
   "source": [
    "seed_everything(RANDOM_STATE)\n",
    "model = XGBClassifier(n_jobs=-1, random_state=RANDOM_STATE)\n",
    "prun = PrunedCV(N_FOLD, 0.01, splits_to_start_pruning=3, minimize=False)"
   ]
  },
  {
   "cell_type": "code",
   "execution_count": 9,
   "metadata": {
    "ExecuteTime": {
     "end_time": "2019-10-01T09:04:34.180752Z",
     "start_time": "2019-10-01T09:04:34.174138Z"
    }
   },
   "outputs": [],
   "source": [
    "def objective(trial):\n",
    "    \n",
    "    joblib.dump(study, 'study_{}.pkl'.format(BOOSTING)) \n",
    "\n",
    "    \n",
    "    params = {\n",
    "        'max_depth': trial.suggest_int('max_depth', 3, 1000), \n",
    "        'learning_rate': trial.suggest_loguniform('learning_rate', 0.01, 0.5),\n",
    "        'min_child_weight': trial.suggest_int('min_child_weight', 3, 500),\n",
    "        'subsample': trial.suggest_uniform('subsample', 0.01, 0.99),\n",
    "        'n_estimators': trial.suggest_int('n_estimators', 500, 2000)\n",
    "        \n",
    "    }\n",
    "    \n",
    "    model.set_params(**params)\n",
    "    print(params)\n",
    "        \n",
    "    return prun.cross_val_score(model, \n",
    "                                X_train_sampled, \n",
    "                                y_sampled, \n",
    "                                split_type='stratifiedkfold',\n",
    "                                shuffle=True,\n",
    "                                metric='auc',\n",
    "                                verbose=1,\n",
    "                                random_state=RANDOM_STATE)"
   ]
  },
  {
   "cell_type": "code",
   "execution_count": 10,
   "metadata": {
    "ExecuteTime": {
     "end_time": "2019-10-01T09:04:34.189289Z",
     "start_time": "2019-10-01T09:04:34.183357Z"
    },
    "scrolled": true
   },
   "outputs": [],
   "source": [
    "if SEARCH_PARAMS:\n",
    "    if os.path.isfile('study_{}.pkl'.format(BOOSTING)):\n",
    "        study = joblib.load('study_{}.pkl'.format(BOOSTING))\n",
    "    else:\n",
    "        study = optuna.create_study()\n",
    "\n",
    "    study.optimize(objective, timeout=60 * 60 * 24)\n",
    "    joblib.dump(study, 'study_{}.pkl'.format(BOOSTING))\n",
    "    best_params = study.best_params\n",
    "\n",
    "else:\n",
    "\n",
    "    best_params = {'max_depth': 792,\n",
    "                     'learning_rate': 0.014588159840197071,\n",
    "                     'min_child_weight': 5,\n",
    "                     'subsample': 0.6824025156854334,\n",
    "                     'n_estimators': 1128}"
   ]
  },
  {
   "cell_type": "code",
   "execution_count": 11,
   "metadata": {
    "ExecuteTime": {
     "end_time": "2019-10-01T09:04:34.202803Z",
     "start_time": "2019-10-01T09:04:34.191257Z"
    }
   },
   "outputs": [
    {
     "data": {
      "text/plain": [
       "XGBClassifier(base_score=0.5, booster='gbtree', colsample_bylevel=1,\n",
       "              colsample_bynode=1, colsample_bytree=1, gamma=0,\n",
       "              learning_rate=0.014588159840197071, max_delta_step=0,\n",
       "              max_depth=792, min_child_weight=5, missing=None,\n",
       "              n_estimators=1128, n_jobs=-1, nthread=None,\n",
       "              objective='binary:logistic', random_state=42, reg_alpha=0,\n",
       "              reg_lambda=1, scale_pos_weight=1, seed=None, silent=None,\n",
       "              subsample=0.6824025156854334, verbosity=1)"
      ]
     },
     "execution_count": 11,
     "metadata": {},
     "output_type": "execute_result"
    }
   ],
   "source": [
    "model.set_params(**best_params)"
   ]
  },
  {
   "cell_type": "code",
   "execution_count": null,
   "metadata": {
    "ExecuteTime": {
     "start_time": "2019-10-01T09:04:26.051Z"
    }
   },
   "outputs": [
    {
     "data": {
      "application/vnd.jupyter.widget-view+json": {
       "model_id": "953ff564fc0c4d9bac647c7f196ff1d3",
       "version_major": 2,
       "version_minor": 0
      },
      "text/plain": [
       "HBox(children=(IntProgress(value=0, max=8), HTML(value='')))"
      ]
     },
     "metadata": {},
     "output_type": "display_data"
    },
    {
     "name": "stdout",
     "output_type": "stream",
     "text": [
      "ROC accuracy: 0.9756689944625713, Train: 0.9999994236162361\n",
      "ROC accuracy: 0.9780253752999902, Train: 0.9999992263899533\n",
      "ROC accuracy: 0.9756803944435709, Train: 0.9999994150166617\n"
     ]
    }
   ],
   "source": [
    "seed_everything(RANDOM_STATE)\n",
    "xx = cross_val_score_auc(model,\n",
    "                        X_train,\n",
    "                        y_train,\n",
    "                        n_fold=N_FOLD,\n",
    "                        random_state=RANDOM_STATE,\n",
    "                        predict=True,\n",
    "                        X_test=X_test,\n",
    "                        shuffle=True,\n",
    "                        split_type='stratifiedkfold',\n",
    "                        return_to_stack=True,\n",
    "                        submission=sample_submission)"
   ]
  },
  {
   "cell_type": "code",
   "execution_count": null,
   "metadata": {
    "ExecuteTime": {
     "start_time": "2019-10-01T09:04:26.053Z"
    }
   },
   "outputs": [],
   "source": [
    "joblib.dump(xx, 'xgboost.pkl')"
   ]
  }
 ],
 "metadata": {
  "jupytext": {
   "formats": "ipynb,py:percent"
  },
  "kernelspec": {
   "display_name": "Python 3",
   "language": "python",
   "name": "python3"
  },
  "language_info": {
   "codemirror_mode": {
    "name": "ipython",
    "version": 3
   },
   "file_extension": ".py",
   "mimetype": "text/x-python",
   "name": "python",
   "nbconvert_exporter": "python",
   "pygments_lexer": "ipython3",
   "version": "3.6.8"
  }
 },
 "nbformat": 4,
 "nbformat_minor": 2
}
