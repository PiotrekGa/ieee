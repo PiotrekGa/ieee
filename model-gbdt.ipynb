{
 "cells": [
  {
   "cell_type": "code",
   "execution_count": 1,
   "metadata": {
    "ExecuteTime": {
     "end_time": "2019-09-15T17:05:24.520986Z",
     "start_time": "2019-09-15T17:05:21.756542Z"
    }
   },
   "outputs": [
    {
     "name": "stderr",
     "output_type": "stream",
     "text": [
      "/Users/piotrgabrys/.pyenv/versions/miniconda3-4.3.30/lib/python3.6/site-packages/lightgbm/__init__.py:46: UserWarning: Starting from version 2.2.1, the library file in distribution wheels for macOS is built by the Apple Clang (Xcode_8.3.3) compiler.\n",
      "This means that in case of installing LightGBM from PyPI via the ``pip install lightgbm`` command, you don't need to install the gcc compiler anymore.\n",
      "Instead of that, you need to install the OpenMP library, which is required for running LightGBM on the system with the Apple Clang compiler.\n",
      "You can install the OpenMP library by the following command: ``brew install libomp``.\n",
      "  \"You can install the OpenMP library by the following command: ``brew install libomp``.\", UserWarning)\n"
     ]
    }
   ],
   "source": [
    "import os\n",
    "import gc\n",
    "import numpy as np\n",
    "import pandas as pd\n",
    "import joblib\n",
    "from datetime import datetime\n",
    "\n",
    "from lightgbm import LGBMClassifier\n",
    "import optuna\n",
    "from prunedcv import PrunedCV\n",
    "\n",
    "from codes.utils import import_data, cross_val_score_auc, reduce_mem_usage, fix_dtypes\n",
    "from codes.fe_browser import latest\n",
    "from codes.fe_emails import proton, mappings\n",
    "from codes.fe_cards import stats\n",
    "from codes.fe_date import dates\n",
    "from codes.fe_relatives import divisions, divisions_float\n",
    "from codes.fe_categorical import pairs, wtf, cat_limit, encode_cat\n",
    "from codes.prepro import prepro\n",
    "from codes.fe_users import users_stats\n",
    "\n",
    "from sklearn.feature_selection import SelectFromModel\n",
    "from sklearn.pipeline import make_pipeline\n",
    "from sklearn.base import TransformerMixin"
   ]
  },
  {
   "cell_type": "code",
   "execution_count": 60,
   "metadata": {
    "ExecuteTime": {
     "end_time": "2019-09-16T06:00:14.899975Z",
     "start_time": "2019-09-16T06:00:14.895114Z"
    },
    "lines_to_next_cell": 2
   },
   "outputs": [],
   "source": [
    "SEARCH_PARAMS = False\n",
    "N_FOLD = 8\n",
    "BOOSTING = 'gbdt'\n",
    "RANDOM_STATE = 42"
   ]
  },
  {
   "cell_type": "code",
   "execution_count": null,
   "metadata": {},
   "outputs": [],
   "source": [
    "y_train = joblib.load('y_train.pkl')\n",
    "X_train = joblib.load('features_train.pkl')\n",
    "X_test = joblib.load('features_test.pkl')\n",
    "sample_submission = pd.read_csv('../input/sample_submission.csv', index_col=0)"
   ]
  },
  {
   "cell_type": "markdown",
   "metadata": {},
   "source": [
    "### Model and training"
   ]
  },
  {
   "cell_type": "code",
   "execution_count": null,
   "metadata": {
    "ExecuteTime": {
     "start_time": "2019-09-15T16:54:43.711Z"
    }
   },
   "outputs": [],
   "source": [
    "class Counter(TransformerMixin):\n",
    "    \n",
    "    def fit(self, X, y=None):\n",
    "        return self\n",
    "    \n",
    "    def transform(self, X):\n",
    "        print(X.shape[1])\n",
    "        return X"
   ]
  },
  {
   "cell_type": "code",
   "execution_count": 55,
   "metadata": {
    "ExecuteTime": {
     "end_time": "2019-09-16T05:59:28.144771Z",
     "start_time": "2019-09-16T05:59:28.127884Z"
    }
   },
   "outputs": [],
   "source": [
    "model = LGBMClassifier(metric='auc', \n",
    "                   boosting_type=BOOSTING)\n"
   ]
  },
  {
   "cell_type": "code",
   "execution_count": 56,
   "metadata": {
    "ExecuteTime": {
     "end_time": "2019-09-16T05:59:29.451608Z",
     "start_time": "2019-09-16T05:59:29.440282Z"
    }
   },
   "outputs": [],
   "source": [
    "prun = PrunedCV(N_FOLD, 0.02, minimize=False)"
   ]
  },
  {
   "cell_type": "code",
   "execution_count": 57,
   "metadata": {
    "ExecuteTime": {
     "end_time": "2019-09-16T05:59:37.893596Z",
     "start_time": "2019-09-16T05:59:37.879085Z"
    }
   },
   "outputs": [],
   "source": [
    "def objective(trial):\n",
    "    \n",
    "    joblib.dump(study, 'study_{}.pkl'.format(BOOSTING)) \n",
    "\n",
    "    \n",
    "    params = {\n",
    "        'selectfrommodel__threshold': trial.suggest_int('selectfrommodel__threshold', 1, 200),\n",
    "        'lgbmclassifier__num_leaves': trial.suggest_int('lgbmclassifier__num_leaves', 10, 1500), \n",
    "        'lgbmclassifier__subsample_for_bin': trial.suggest_int('lgbmclassifier__subsample_for_bin', 1000, 5000000), \n",
    "        'lgbmclassifier__min_child_samples': trial.suggest_int('lgbmclassifier__min_child_samples', 200, 100000), \n",
    "        'lgbmclassifier__reg_alpha': trial.suggest_loguniform('lgbmclassifier__reg_alpha', 0.00000000001, 10.0),\n",
    "        'lgbmclassifier__colsample_bytree': trial.suggest_loguniform('lgbmclassifier__colsample_bytree', 0.0001, 1.0),\n",
    "        'lgbmclassifier__learning_rate': trial.suggest_loguniform('lgbmclassifier__learning_rate', 0.00001, 2.0)\n",
    "    }\n",
    "    \n",
    "    print(params)\n",
    "    \n",
    "    model.set_params(**params)\n",
    "    return prun.cross_val_score(model, \n",
    "                                X_train, \n",
    "                                y_train, \n",
    "                                metric='auc', \n",
    "                                shuffle=True, \n",
    "                                random_state=RANDOM_STATE)"
   ]
  },
  {
   "cell_type": "code",
   "execution_count": 58,
   "metadata": {
    "ExecuteTime": {
     "end_time": "2019-09-16T05:59:42.651740Z",
     "start_time": "2019-09-16T05:59:42.646177Z"
    },
    "scrolled": true
   },
   "outputs": [],
   "source": [
    "if SEARCH_PARAMS:\n",
    "    if os.path.isfile('study_{}.pkl'.format(BOOSTING)):\n",
    "        study = joblib.load('study_{}.pkl'.format(BOOSTING))\n",
    "    else:\n",
    "        study = optuna.create_study()\n",
    "\n",
    "    study.optimize(objective, timeout=60 * 60 * 13)\n",
    "    joblib.dump(study, 'study_{}.pkl'.format(BOOSTING))\n",
    "    best_params = study.best_params\n",
    "\n",
    "else:\n",
    "\n",
    "    best_params = {'num_leaves': 302,\n",
    "                 'max_depth': 157,\n",
    "                 'n_estimators': 1200,\n",
    "                 'subsample_for_bin': 290858,\n",
    "                 'min_child_samples': 79,\n",
    "                 'reg_alpha': 1.0919573524807885,\n",
    "                 'colsample_bytree': 0.5653288564015742,\n",
    "                 'learning_rate': 0.028565794309535042}"
   ]
  },
  {
   "cell_type": "code",
   "execution_count": 61,
   "metadata": {
    "ExecuteTime": {
     "end_time": "2019-09-16T08:47:32.028785Z",
     "start_time": "2019-09-16T06:00:18.437144Z"
    }
   },
   "outputs": [
    {
     "data": {
      "application/vnd.jupyter.widget-view+json": {
       "model_id": "617365689c8149e7a74e9e56d892ab2b",
       "version_major": 2,
       "version_minor": 0
      },
      "text/plain": [
       "HBox(children=(IntProgress(value=0, max=8), HTML(value='')))"
      ]
     },
     "metadata": {},
     "output_type": "display_data"
    },
    {
     "name": "stdout",
     "output_type": "stream",
     "text": [
      "ROC accuracy: 0.9764821582477675, Train: 0.9999996439444575\n",
      "ROC accuracy: 0.9781221962466795, Train: 0.9999997646262114\n",
      "ROC accuracy: 0.9775348321322057, Train: 0.9999997997880828\n",
      "ROC accuracy: 0.9774121038746709, Train: 0.9999996477157624\n",
      "ROC accuracy: 0.9763657560770176, Train: 0.9999998041139913\n",
      "ROC accuracy: 0.9767567449939596, Train: 0.9999999211355194\n",
      "ROC accuracy: 0.9785596615587364, Train: 0.9999997230314934\n",
      "ROC accuracy: 0.9772950222836132, Train: 0.9999998386195879\n",
      "\n",
      "\n"
     ]
    },
    {
     "data": {
      "text/plain": [
       "0.9773160594268313"
      ]
     },
     "execution_count": 61,
     "metadata": {},
     "output_type": "execute_result"
    }
   ],
   "source": [
    "model.set_params(**best_params)\n",
    "\n",
    "cross_val_score_auc(model,\n",
    "                    X_train,\n",
    "                    y_train,\n",
    "                    n_fold=N_FOLD,\n",
    "                    stratify=True,\n",
    "                    shuffle=True,\n",
    "                    random_state=RANDOM_STATE,\n",
    "                    predict=True,\n",
    "                    X_test=X_test,\n",
    "                    submission=sample_submission)"
   ]
  },
  {
   "cell_type": "code",
   "execution_count": null,
   "metadata": {
    "ExecuteTime": {
     "start_time": "2019-09-15T16:54:43.774Z"
    }
   },
   "outputs": [],
   "source": [
    "# ROC accuracy: 0.9668942182909179, Train: 0.9999901167411397\n",
    "# ROC accuracy: 0.9720552290202384, Train: 0.9999891233350843\n",
    "# ROC accuracy: 0.9710663975253696, Train: 0.9999918268060299\n",
    "# ROC accuracy: 0.9703005116766165, Train: 0.9999910116495871\n",
    "# ROC accuracy: 0.9677524410936837, Train: 0.9999883123936292\n",
    "# ROC accuracy: 0.970521434805755, Train: 0.9999753389326952\n",
    "# ROC accuracy: 0.9709850608667766, Train: 0.9999787304381259\n",
    "# ROC accuracy: 0.9708245135815027, Train: 0.9999796449943333\n",
    "\n",
    "\n",
    "# 0.9700499758576075"
   ]
  },
  {
   "cell_type": "code",
   "execution_count": null,
   "metadata": {},
   "outputs": [],
   "source": []
  }
 ],
 "metadata": {
  "jupytext": {
   "formats": "ipynb,py:percent"
  },
  "kernelspec": {
   "display_name": "Python 3",
   "language": "python",
   "name": "python3"
  },
  "language_info": {
   "codemirror_mode": {
    "name": "ipython",
    "version": 3
   },
   "file_extension": ".py",
   "mimetype": "text/x-python",
   "name": "python",
   "nbconvert_exporter": "python",
   "pygments_lexer": "ipython3",
   "version": "3.6.8"
  }
 },
 "nbformat": 4,
 "nbformat_minor": 2
}
