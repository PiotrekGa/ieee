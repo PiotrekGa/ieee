{
 "cells": [
  {
   "cell_type": "code",
   "execution_count": 1,
   "metadata": {
    "ExecuteTime": {
     "end_time": "2019-09-24T17:49:42.194467Z",
     "start_time": "2019-09-24T17:49:38.725316Z"
    }
   },
   "outputs": [
    {
     "name": "stderr",
     "output_type": "stream",
     "text": [
      "/Users/piotrgabrys/.pyenv/versions/miniconda3-4.3.30/lib/python3.6/site-packages/lightgbm/__init__.py:46: UserWarning: Starting from version 2.2.1, the library file in distribution wheels for macOS is built by the Apple Clang (Xcode_8.3.3) compiler.\n",
      "This means that in case of installing LightGBM from PyPI via the ``pip install lightgbm`` command, you don't need to install the gcc compiler anymore.\n",
      "Instead of that, you need to install the OpenMP library, which is required for running LightGBM on the system with the Apple Clang compiler.\n",
      "You can install the OpenMP library by the following command: ``brew install libomp``.\n",
      "  \"You can install the OpenMP library by the following command: ``brew install libomp``.\", UserWarning)\n"
     ]
    }
   ],
   "source": [
    "import os\n",
    "import gc\n",
    "import numpy as np\n",
    "import pandas as pd\n",
    "import joblib\n",
    "from datetime import datetime\n",
    "from datetime import timedelta\n",
    "\n",
    "from lightgbm import LGBMClassifier\n",
    "from sklearn.feature_selection import SelectFromModel\n",
    "from sklearn.pipeline import make_pipeline\n",
    "import optuna\n",
    "\n",
    "from codes.utils import cross_val_score_auc, PrunedCV, seed_everything, Reporter"
   ]
  },
  {
   "cell_type": "code",
   "execution_count": 26,
   "metadata": {
    "ExecuteTime": {
     "end_time": "2019-09-23T15:35:07.176453Z",
     "start_time": "2019-09-23T15:35:07.159678Z"
    },
    "lines_to_next_cell": 2
   },
   "outputs": [],
   "source": [
    "SEARCH_PARAMS = False\n",
    "N_FOLD = 6\n",
    "BOOSTING = 'gbdt'\n",
    "RANDOM_STATE = 42\n",
    "START_DATE = datetime.strptime('2017-11-30', '%Y-%m-%d')\n",
    "seed_everything(RANDOM_STATE)"
   ]
  },
  {
   "cell_type": "code",
   "execution_count": 27,
   "metadata": {
    "ExecuteTime": {
     "end_time": "2019-09-23T15:35:14.414182Z",
     "start_time": "2019-09-23T15:35:08.351740Z"
    }
   },
   "outputs": [],
   "source": [
    "y_train = joblib.load('y_train.pkl')\n",
    "X_train = joblib.load('features_train.pkl')\n",
    "X_test = joblib.load('features_test.pkl')\n",
    "sample_submission = pd.read_csv('../input/sample_submission.csv', index_col=0)\n",
    "group_split = X_train.DT_M"
   ]
  },
  {
   "cell_type": "code",
   "execution_count": 28,
   "metadata": {
    "ExecuteTime": {
     "end_time": "2019-09-23T15:35:14.418609Z",
     "start_time": "2019-09-23T15:35:14.416033Z"
    }
   },
   "outputs": [],
   "source": [
    "# train_df = joblib.load('train.pkl')[['TransactionDT']]\n",
    "# train_df['DT_M'] = train_df['TransactionDT'].apply(lambda x: (START_DATE + timedelta(seconds = x)))\n",
    "# train_df['DT_M'] = (train_df['DT_M'].dt.year-2017)*12 + train_df['DT_M'].dt.month \n",
    "# train_df = train_df[train_df['DT_M']<(train_df['DT_M'].max())]\n",
    "\n",
    "# X_train['DT_M'] = train_df['DT_M']\n",
    "# X_train['DT_M'].fillna(17, inplace=True)"
   ]
  },
  {
   "cell_type": "code",
   "execution_count": 29,
   "metadata": {
    "ExecuteTime": {
     "end_time": "2019-09-23T15:35:17.310290Z",
     "start_time": "2019-09-23T15:35:14.421805Z"
    }
   },
   "outputs": [],
   "source": [
    "seed_everything(RANDOM_STATE)\n",
    "y_sampled = pd.concat([y_train[y_train == 1], y_train[y_train == 0].sample(frac=0.2)])\n",
    "X_train_sampled = X_train.loc[y_sampled.index, :]\n",
    "group_split_sampled = X_train_sampled.DT_M\n",
    "X_train_sampled.drop('DT_M', axis=1, inplace=True)\n",
    "X_train.drop('DT_M', axis=1, inplace=True)"
   ]
  },
  {
   "cell_type": "markdown",
   "metadata": {},
   "source": [
    "### Model and training"
   ]
  },
  {
   "cell_type": "code",
   "execution_count": 30,
   "metadata": {
    "ExecuteTime": {
     "end_time": "2019-09-23T15:35:17.340989Z",
     "start_time": "2019-09-23T15:35:17.319281Z"
    }
   },
   "outputs": [],
   "source": [
    "model = LGBMClassifier(metric='auc', boosting_type=BOOSTING)\n",
    "prun = PrunedCV(N_FOLD, 0.02, splits_to_start_pruning=3, minimize=False)"
   ]
  },
  {
   "cell_type": "code",
   "execution_count": 31,
   "metadata": {
    "ExecuteTime": {
     "end_time": "2019-09-23T15:35:17.376242Z",
     "start_time": "2019-09-23T15:35:17.346930Z"
    }
   },
   "outputs": [],
   "source": [
    "def objective(trial):\n",
    "    \n",
    "    joblib.dump(study, 'study_{}.pkl'.format(BOOSTING)) \n",
    "\n",
    "    \n",
    "    params = {\n",
    "        'num_leaves': trial.suggest_int('num_leaves', 10, 1500), \n",
    "        'max_depth': trial.suggest_int('max_depth', 10, 1000), \n",
    "        'subsample_for_bin': trial.suggest_int('subsample_for_bin', 1000, 5000000), \n",
    "        'min_child_samples': trial.suggest_int('min_child_samples', 200, 100000), \n",
    "        'reg_alpha': trial.suggest_loguniform('reg_alpha', 0.00000000001, 10.0),\n",
    "        'colsample_bytree': trial.suggest_loguniform('colsample_bytree', 0.0001, 1.0),\n",
    "        'learning_rate': trial.suggest_loguniform('learning_rate', 0.00001, 2.0),\n",
    "        'n_estimators': trial.suggest_int('n_estimators', 500, 2000)\n",
    "    }\n",
    "    \n",
    "    model.set_params(**params)\n",
    "        \n",
    "    return prun.cross_val_score(model, \n",
    "                                X_train_sampled, \n",
    "                                y_sampled, \n",
    "                                split_type='groupkfold',\n",
    "                                groups=group_split_sampled,\n",
    "                                metric='auc',\n",
    "                                random_state=RANDOM_STATE)"
   ]
  },
  {
   "cell_type": "code",
   "execution_count": 32,
   "metadata": {
    "ExecuteTime": {
     "end_time": "2019-09-23T15:35:17.407685Z",
     "start_time": "2019-09-23T15:35:17.390104Z"
    },
    "scrolled": false
   },
   "outputs": [],
   "source": [
    "if SEARCH_PARAMS:\n",
    "    if os.path.isfile('study_{}.pkl'.format(BOOSTING)):\n",
    "        study = joblib.load('study_{}.pkl'.format(BOOSTING))\n",
    "    else:\n",
    "        study = optuna.create_study()\n",
    "\n",
    "    study.optimize(objective, timeout=60 * 60 * 21)\n",
    "    joblib.dump(study, 'study_{}.pkl'.format(BOOSTING))\n",
    "    best_params = study.best_params\n",
    "\n",
    "else:\n",
    "\n",
    "    best_params = {'num_leaves': 302,\n",
    "                     'max_depth': 157,\n",
    "                     'n_estimators': 1200,\n",
    "                     'subsample_for_bin': 290858,\n",
    "                     'min_child_samples': 79,\n",
    "                     'reg_alpha': 0.9919573524807885,\n",
    "                     'colsample_bytree': 0.5653288564015742,\n",
    "                     'learning_rate': 0.028565794309535042}"
   ]
  },
  {
   "cell_type": "code",
   "execution_count": 34,
   "metadata": {
    "ExecuteTime": {
     "end_time": "2019-09-23T15:35:43.122667Z",
     "start_time": "2019-09-23T15:35:43.114161Z"
    }
   },
   "outputs": [
    {
     "data": {
      "text/plain": [
       "LGBMClassifier(boosting_type='gbdt', class_weight=None,\n",
       "               colsample_bytree=0.5653288564015742, importance_type='split',\n",
       "               learning_rate=0.028565794309535042, max_depth=157, metric='auc',\n",
       "               min_child_samples=79, min_child_weight=0.001, min_split_gain=0.0,\n",
       "               n_estimators=1200, n_jobs=-1, num_leaves=302, objective=None,\n",
       "               random_state=None, reg_alpha=0.9919573524807885, reg_lambda=0.0,\n",
       "               silent=True, subsample=1.0, subsample_for_bin=290858,\n",
       "               subsample_freq=0, threshold=254)"
      ]
     },
     "execution_count": 34,
     "metadata": {},
     "output_type": "execute_result"
    }
   ],
   "source": [
    "model.set_params(**best_params)"
   ]
  },
  {
   "cell_type": "code",
   "execution_count": 36,
   "metadata": {
    "ExecuteTime": {
     "end_time": "2019-09-23T16:09:10.068568Z",
     "start_time": "2019-09-23T15:41:34.841958Z"
    }
   },
   "outputs": [
    {
     "data": {
      "application/vnd.jupyter.widget-view+json": {
       "model_id": "27dcaae00bac4c2690b479e6af603653",
       "version_major": 2,
       "version_minor": 0
      },
      "text/plain": [
       "HBox(children=(IntProgress(value=0, max=6), HTML(value='')))"
      ]
     },
     "metadata": {},
     "output_type": "display_data"
    },
    {
     "name": "stdout",
     "output_type": "stream",
     "text": [
      "ROC accuracy: 0.9698829306653011, Train: 1.0\n",
      "ROC accuracy: 0.9714564753774927, Train: 1.0\n",
      "ROC accuracy: 0.9710885637156524, Train: 1.0\n",
      "ROC accuracy: 0.9736487162976313, Train: 1.0\n",
      "ROC accuracy: 0.9731698072751314, Train: 1.0\n",
      "ROC accuracy: 0.9712491997532641, Train: 1.0\n",
      "\n"
     ]
    },
    {
     "data": {
      "text/plain": [
       "0.9717492821807454"
      ]
     },
     "execution_count": 36,
     "metadata": {},
     "output_type": "execute_result"
    }
   ],
   "source": [
    "seed_everything(RANDOM_STATE)\n",
    "cross_val_score_auc(model,\n",
    "                    X_train_sampled,\n",
    "                    y_sampled,\n",
    "                    n_fold=N_FOLD,\n",
    "                    random_state=RANDOM_STATE,\n",
    "                    predict=True,\n",
    "                    X_test=X_test,\n",
    "                    shuffle=True,\n",
    "                    split_type='stratifiedkfold',\n",
    "                    groups=group_split_sampled,\n",
    "                    submission=sample_submission)"
   ]
  },
  {
   "cell_type": "code",
   "execution_count": null,
   "metadata": {},
   "outputs": [],
   "source": []
  }
 ],
 "metadata": {
  "jupytext": {
   "formats": "ipynb,py:percent"
  },
  "kernelspec": {
   "display_name": "Python 3",
   "language": "python",
   "name": "python3"
  },
  "language_info": {
   "codemirror_mode": {
    "name": "ipython",
    "version": 3
   },
   "file_extension": ".py",
   "mimetype": "text/x-python",
   "name": "python",
   "nbconvert_exporter": "python",
   "pygments_lexer": "ipython3",
   "version": "3.6.8"
  }
 },
 "nbformat": 4,
 "nbformat_minor": 2
}
