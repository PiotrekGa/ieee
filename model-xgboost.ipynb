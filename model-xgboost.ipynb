{
 "cells": [
  {
   "cell_type": "code",
   "execution_count": 8,
   "metadata": {
    "ExecuteTime": {
     "end_time": "2019-09-14T07:51:15.326107Z",
     "start_time": "2019-09-14T07:51:15.299003Z"
    }
   },
   "outputs": [],
   "source": [
    "import os\n",
    "import gc\n",
    "import numpy as np\n",
    "import pandas as pd\n",
    "import joblib\n",
    "from datetime import datetime\n",
    "\n",
    "from xgboost import XGBClassifier\n",
    "import optuna\n",
    "from prunedcv import PrunedCV\n",
    "\n",
    "from codes.utils import import_data, cross_val_score_auc, reduce_mem_usage, fix_dtypes\n",
    "from codes.fe_browser import latest\n",
    "from codes.fe_emails import proton, mappings\n",
    "from codes.fe_cards import stats\n",
    "from codes.fe_date import dates\n",
    "from codes.fe_relatives import divisions, divisions_float\n",
    "from codes.fe_categorical import pairs, wtf, cat_limit, encode_cat\n",
    "from codes.prepro import prepro\n",
    "from codes.fe_users import users_stats\n",
    "\n",
    "from sklearn.feature_selection import SelectFromModel\n",
    "from sklearn.pipeline import make_pipeline\n",
    "from sklearn.base import TransformerMixin"
   ]
  },
  {
   "cell_type": "code",
   "execution_count": 9,
   "metadata": {
    "ExecuteTime": {
     "end_time": "2019-09-14T07:51:15.794479Z",
     "start_time": "2019-09-14T07:51:15.788488Z"
    },
    "lines_to_next_cell": 2
   },
   "outputs": [],
   "source": [
    "DATA_PATH = '../input/'\n",
    "SEARCH_PARAMS = True\n",
    "N_FOLD = 5\n",
    "BOOSTING = 'xgb'\n",
    "RANDOM_STATE = 44"
   ]
  },
  {
   "cell_type": "code",
   "execution_count": 10,
   "metadata": {
    "ExecuteTime": {
     "end_time": "2019-09-14T07:51:23.898953Z",
     "start_time": "2019-09-14T07:51:16.117248Z"
    },
    "_cell_guid": "79c7e3d0-c299-4dcb-8224-4455121ee9b0",
    "_uuid": "d629ff2d2480ee46fbb7e2d37f6b5fab8052498a",
    "lines_to_next_cell": 2
   },
   "outputs": [],
   "source": [
    "X_train, X_test, sample_submission = import_data(DATA_PATH)"
   ]
  },
  {
   "cell_type": "markdown",
   "metadata": {},
   "source": [
    "### Some Feature Engineering\n",
    "\n",
    "drop columns, count encoding, aggregation, fillna"
   ]
  },
  {
   "cell_type": "code",
   "execution_count": 11,
   "metadata": {
    "ExecuteTime": {
     "end_time": "2019-09-14T07:59:22.295865Z",
     "start_time": "2019-09-14T07:51:23.901167Z"
    },
    "scrolled": true
   },
   "outputs": [
    {
     "name": "stdout",
     "output_type": "stream",
     "text": [
      "fix_dtypes\n",
      "users_stats\n"
     ]
    },
    {
     "name": "stderr",
     "output_type": "stream",
     "text": [
      "/Users/piotrgabrys/data/python3/ieee/codes/fe_users.py:17: FutureWarning: Sorting because non-concatenation axis is not aligned. A future version\n",
      "of pandas will change to not sort by default.\n",
      "\n",
      "To accept the future behavior, pass 'sort=False'.\n",
      "\n",
      "To retain the current behavior and silence the warning, pass 'sort=True'.\n",
      "\n",
      "  all_data = pd.concat([train, test])\n"
     ]
    },
    {
     "name": "stdout",
     "output_type": "stream",
     "text": [
      "latest\n",
      "proton\n",
      "nulls1\n",
      "mappings\n",
      "stats\n",
      "divisions\n",
      "dates\n",
      "pairs\n",
      "encode_cat\n",
      "wtf\n",
      "y\n",
      "divisions_float\n",
      "774\n",
      "prepro\n",
      "reduce_mem_usage\n",
      "np.inf\n",
      "TransactionDT\n"
     ]
    }
   ],
   "source": [
    "if os.path.isfile('features_train.pkl'):\n",
    "    X_train = joblib.load('features_train.pkl')\n",
    "    X_test = joblib.load('features_test.pkl')\n",
    "    y_train = joblib.load('y_train.pkl')\n",
    "    \n",
    "else:\n",
    "\n",
    "    print('fix_dtypes')\n",
    "    X_train, X_test = fix_dtypes(X_train, X_test)\n",
    "    print('users_stats')\n",
    "    X_train, X_test = users_stats(X_train, X_test)\n",
    "    print('latest')\n",
    "    X_train, X_test = latest(X_train, X_test)\n",
    "    print('proton')\n",
    "    X_train, X_test = proton(X_train, X_test)\n",
    "    print('nulls1')\n",
    "    X_train['nulls1'] = X_train.isna().sum(axis=1)\n",
    "    X_test['nulls1'] = X_test.isna().sum(axis=1)\n",
    "    print('mappings')\n",
    "    X_train, X_test = mappings(X_train, X_test)\n",
    "    print('stats')\n",
    "    X_train, X_test = stats(X_train, X_test)\n",
    "    print('divisions')\n",
    "    X_train, X_test = divisions(X_train, X_test)\n",
    "    print('dates')\n",
    "    X_train, X_test = dates(X_train, X_test)\n",
    "    print('pairs')\n",
    "    X_train, X_test = pairs(X_train, X_test)\n",
    "    print('encode_cat')\n",
    "    X_train, X_test = encode_cat(X_train, X_test)\n",
    "    print('wtf')\n",
    "    # X_train, X_test = wtf(X_train, X_test)\n",
    "    print('y')\n",
    "    y_train = X_train['isFraud'].copy()\n",
    "    X_train = X_train.drop('isFraud', axis=1)\n",
    "    print('divisions_float')\n",
    "    X_train, X_test = divisions_float(X_train, X_test)\n",
    "    print('prepro')\n",
    "    X_train, X_test = prepro(X_train, X_test)\n",
    "    print('reduce_mem_usage')\n",
    "    # X_train = reduce_mem_usage(X_train)\n",
    "    # X_test = reduce_mem_usage(X_test)\n",
    "    print('np.inf')\n",
    "    X_train[X_train == np.inf] = -1\n",
    "    X_train[X_train == -np.inf] = -1\n",
    "    X_train[X_train.isna()] = -1\n",
    "    X_test[X_test == np.inf] = -1\n",
    "    X_test[X_test == -np.inf] = -1\n",
    "    X_test[X_test.isna()] = -1\n",
    "    print('TransactionDT')\n",
    "    X_test.drop(['TransactionDT'], axis=1, inplace=True)\n",
    "    X_train.drop(['TransactionDT'], axis=1, inplace=True)\n",
    "    \n",
    "    joblib.dump(X_train, 'features_train.pkl')\n",
    "    joblib.dump(X_test, 'features_test.pkl')\n",
    "    joblib.dump(y_train, 'y_train.pkl')"
   ]
  },
  {
   "cell_type": "code",
   "execution_count": null,
   "metadata": {},
   "outputs": [],
   "source": [
    "train_new_feats = joblib.load('train_feats.pkl')\n",
    "test_new_feats = joblib.load('test_feats.pkl')\n",
    "\n",
    "for col in train_new_feats.select_dtypes('category').columns:\n",
    "    train_new_feats.loc[:, col] = train_new_feats.loc[:, col].astype('int')\n",
    "    test_new_feats.loc[:, col] = test_new_feats.loc[:, col].astype('int')\n",
    "\n",
    "print('np.inf')\n",
    "train_new_feats[train_new_feats == np.inf] = -1\n",
    "train_new_feats[train_new_feats == -np.inf] = -1\n",
    "train_new_feats[train_new_feats.isna()] = -1\n",
    "test_new_feats[test_new_feats == np.inf] = -1\n",
    "test_new_feats[test_new_feats == -np.inf] = -1\n",
    "test_new_feats[test_new_feats.isna()] = -1\n",
    "\n",
    "print(train_new_feats.shape[1])\n",
    "print(X_train.shape[1])\n",
    "X_train = pd.concat([X_train, train_new_feats], axis=1)\n",
    "print(X_train.shape[1])\n",
    "X_test = pd.concat([X_test, test_new_feats], axis=1)\n",
    "del train_new_feats, test_new_feats"
   ]
  },
  {
   "cell_type": "markdown",
   "metadata": {},
   "source": [
    "### Model and training"
   ]
  },
  {
   "cell_type": "code",
   "execution_count": null,
   "metadata": {
    "ExecuteTime": {
     "start_time": "2019-09-14T08:16:42.575Z"
    }
   },
   "outputs": [
    {
     "name": "stdout",
     "output_type": "stream",
     "text": [
      "1267\n"
     ]
    }
   ],
   "source": [
    "sel_mod = XGBClassifier(eval_metric='auc', n_estimators=200, n_jobs=-1)\n",
    "sfm = SelectFromModel(sel_mod, threshold=0.5)\n",
    "print(X_train.shape[1])\n",
    "sfm.fit(X_train, y_train)\n",
    "columns = list(X_train.columns[sfm.get_support()])\n",
    "print(len(columns))\n",
    "X_train = X_train.loc[:,columns]\n",
    "X_test = X_test.loc[:,columns]"
   ]
  },
  {
   "cell_type": "code",
   "execution_count": null,
   "metadata": {
    "ExecuteTime": {
     "start_time": "2019-09-13T10:04:17.607Z"
    }
   },
   "outputs": [],
   "source": [
    "# 854\n",
    "# 481"
   ]
  },
  {
   "cell_type": "code",
   "execution_count": null,
   "metadata": {
    "ExecuteTime": {
     "start_time": "2019-09-14T08:20:09.026Z"
    }
   },
   "outputs": [],
   "source": [
    "class Counter(TransformerMixin):\n",
    "    \n",
    "    def fit(self, X, y=None):\n",
    "        return self\n",
    "    \n",
    "    def transform(self, X):\n",
    "        print(X.shape[1])\n",
    "        return X"
   ]
  },
  {
   "cell_type": "code",
   "execution_count": null,
   "metadata": {
    "ExecuteTime": {
     "start_time": "2019-09-14T08:20:09.392Z"
    }
   },
   "outputs": [],
   "source": [
    "sel_mod = XGBClassifier(eval_metric='auc', n_estimators=200, n_jobs=-1)\n",
    "model = make_pipeline(\n",
    "    SelectFromModel(sel_mod),\n",
    "    Counter(),\n",
    "    XGBClassifier(eval_metric='auc', \n",
    "                  n_estimators=2000,\n",
    "                  n_jobs=-1)\n",
    ")"
   ]
  },
  {
   "cell_type": "code",
   "execution_count": null,
   "metadata": {
    "ExecuteTime": {
     "start_time": "2019-09-14T08:20:13.179Z"
    }
   },
   "outputs": [],
   "source": [
    "prun = PrunedCV(N_FOLD, 0.02, minimize=False)"
   ]
  },
  {
   "cell_type": "code",
   "execution_count": null,
   "metadata": {
    "ExecuteTime": {
     "start_time": "2019-09-14T08:20:14.642Z"
    }
   },
   "outputs": [],
   "source": [
    "def objective(trial):\n",
    "    \n",
    "    joblib.dump(study, 'study_{}.pkl'.format(BOOSTING)) \n",
    "\n",
    "    \n",
    "    params = {\n",
    "        'selectfrommodel__threshold': trial.suggest_int('selectfrommodel__threshold', 1, 200),\n",
    "        'xgbclassifier__max_depth': trial.suggest_int('xgbclassifier__max_depth', 3, 1000), \n",
    "        'xgbclassifier__learning_rate': trial.suggest_loguniform('xgbclassifier__learning_rate', 0.00001, 2.0),\n",
    "        'xgbclassifier__min_child_weight': trial.suggest_int('xgbclassifier__min_child_weight', 3, 10000),\n",
    "        'xgbclassifier__subsample': trial.suggest_uniform('xgbclassifier__subsample', 0.01, 0.99)\n",
    "\n",
    "    }\n",
    "    \n",
    "    print(params)\n",
    "    \n",
    "    model.set_params(**params)\n",
    "    return prun.cross_val_score(model, \n",
    "                                X_train, \n",
    "                                y_train, \n",
    "                                metric='auc', \n",
    "                                shuffle=True, \n",
    "                                random_state=RANDOM_STATE)"
   ]
  },
  {
   "cell_type": "code",
   "execution_count": null,
   "metadata": {
    "ExecuteTime": {
     "start_time": "2019-09-14T08:20:15.917Z"
    },
    "scrolled": true
   },
   "outputs": [],
   "source": [
    "if SEARCH_PARAMS:\n",
    "    if os.path.isfile('study_{}.pkl'.format(BOOSTING)):\n",
    "        study = joblib.load('study_{}.pkl'.format(BOOSTING))\n",
    "    else:\n",
    "        study = optuna.create_study()\n",
    "\n",
    "    study.optimize(objective, timeout=60 * 60 * 22)\n",
    "    joblib.dump(study, 'study_{}.pkl'.format(BOOSTING))\n",
    "    best_params = study.best_params\n",
    "\n",
    "else:\n",
    "\n",
    "    best_params = {\n",
    "        'selectfrommodel__threshold': 20,\n",
    "        'xgbclassifier__num_leaves': 330,\n",
    "        'xgbclassifier__subsample_for_bin': 2077193,\n",
    "        'xgbclassifier__min_child_samples': 2227,\n",
    "        'xgbclassifier__reg_alpha': 0.16758905622425835,\n",
    "        'xgbclassifier__colsample_bytree': 0.49030006727392056,\n",
    "        'xgbclassifier__learning_rate': 0.07916040470631734\n",
    "    }"
   ]
  },
  {
   "cell_type": "code",
   "execution_count": null,
   "metadata": {
    "ExecuteTime": {
     "start_time": "2019-09-14T08:20:16.708Z"
    }
   },
   "outputs": [],
   "source": [
    "model.set_params(**best_params)\n",
    "\n",
    "cross_val_score_auc(model,\n",
    "                    X_train,\n",
    "                    y_train,\n",
    "                    n_fold=N_FOLD,\n",
    "                    stratify=True,\n",
    "                    shuffle=True,\n",
    "                    random_state=RANDOM_STATE,\n",
    "                    predict=True,\n",
    "                    X_test=X_test,\n",
    "                    submission=sample_submission)"
   ]
  },
  {
   "cell_type": "code",
   "execution_count": null,
   "metadata": {
    "ExecuteTime": {
     "start_time": "2019-09-13T10:04:17.646Z"
    }
   },
   "outputs": [],
   "source": [
    "# ROC accuracy: 0.9668942182909179, Train: 0.9999901167411397\n",
    "# ROC accuracy: 0.9720552290202384, Train: 0.9999891233350843\n",
    "# ROC accuracy: 0.9710663975253696, Train: 0.9999918268060299\n",
    "# ROC accuracy: 0.9703005116766165, Train: 0.9999910116495871\n",
    "# ROC accuracy: 0.9677524410936837, Train: 0.9999883123936292\n",
    "# ROC accuracy: 0.970521434805755, Train: 0.9999753389326952\n",
    "# ROC accuracy: 0.9709850608667766, Train: 0.9999787304381259\n",
    "# ROC accuracy: 0.9708245135815027, Train: 0.9999796449943333\n",
    "\n",
    "\n",
    "# 0.9700499758576075"
   ]
  },
  {
   "cell_type": "code",
   "execution_count": null,
   "metadata": {},
   "outputs": [],
   "source": []
  }
 ],
 "metadata": {
  "jupytext": {
   "formats": "ipynb,py:percent"
  },
  "kernelspec": {
   "display_name": "Python 3",
   "language": "python",
   "name": "python3"
  },
  "language_info": {
   "codemirror_mode": {
    "name": "ipython",
    "version": 3
   },
   "file_extension": ".py",
   "mimetype": "text/x-python",
   "name": "python",
   "nbconvert_exporter": "python",
   "pygments_lexer": "ipython3",
   "version": "3.6.8"
  }
 },
 "nbformat": 4,
 "nbformat_minor": 2
}
