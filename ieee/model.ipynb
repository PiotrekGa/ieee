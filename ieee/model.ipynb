{
 "cells": [
  {
   "cell_type": "code",
   "execution_count": 1,
   "metadata": {
    "ExecuteTime": {
     "end_time": "2019-08-12T20:55:14.554403Z",
     "start_time": "2019-08-12T20:55:11.970960Z"
    }
   },
   "outputs": [
    {
     "name": "stderr",
     "output_type": "stream",
     "text": [
      "/Users/piotrgabrys/.pyenv/versions/miniconda3-4.3.30/lib/python3.6/site-packages/lightgbm/__init__.py:46: UserWarning: Starting from version 2.2.1, the library file in distribution wheels for macOS is built by the Apple Clang (Xcode_8.3.3) compiler.\n",
      "This means that in case of installing LightGBM from PyPI via the ``pip install lightgbm`` command, you don't need to install the gcc compiler anymore.\n",
      "Instead of that, you need to install the OpenMP library, which is required for running LightGBM on the system with the Apple Clang compiler.\n",
      "You can install the OpenMP library by the following command: ``brew install libomp``.\n",
      "  \"You can install the OpenMP library by the following command: ``brew install libomp``.\", UserWarning)\n",
      "Using TensorFlow backend.\n",
      "WARNING: Logging before flag parsing goes to stderr.\n",
      "W0812 22:55:14.534492 4602312128 deprecation_wrapper.py:119] From /Users/piotrgabrys/.pyenv/versions/miniconda3-4.3.30/lib/python3.6/site-packages/optuna/integration/tensorflow.py:7: The name tf.train.SessionRunHook is deprecated. Please use tf.estimator.SessionRunHook instead.\n",
      "\n"
     ]
    }
   ],
   "source": [
    "import os\n",
    "import gc\n",
    "import numpy as np\n",
    "import pandas as pd\n",
    "import joblib\n",
    "\n",
    "from lightgbm import LGBMClassifier\n",
    "import optuna\n",
    "\n",
    "from sklearn.metrics import roc_auc_score\n",
    "from sklearn.model_selection import KFold, cross_val_score\n",
    "\n",
    "from ieee import utils\n",
    "from ieee import fe_browser\n",
    "from ieee import fe_emails\n",
    "from ieee import fe_cards\n",
    "from ieee import fe_date\n",
    "from ieee import fe_relatives\n",
    "from ieee import fe_categorical\n",
    "from ieee import prepro"
   ]
  },
  {
   "cell_type": "code",
   "execution_count": 2,
   "metadata": {
    "ExecuteTime": {
     "end_time": "2019-08-12T20:55:14.567687Z",
     "start_time": "2019-08-12T20:55:14.557791Z"
    },
    "lines_to_next_cell": 2
   },
   "outputs": [],
   "source": [
    "DATA_PATH = '../input/'"
   ]
  },
  {
   "cell_type": "code",
   "execution_count": 3,
   "metadata": {
    "ExecuteTime": {
     "end_time": "2019-08-12T20:55:21.476179Z",
     "start_time": "2019-08-12T20:55:14.573236Z"
    },
    "_cell_guid": "79c7e3d0-c299-4dcb-8224-4455121ee9b0",
    "_uuid": "d629ff2d2480ee46fbb7e2d37f6b5fab8052498a",
    "lines_to_next_cell": 2
   },
   "outputs": [],
   "source": [
    "train, test, sample_submission = utils.import_data(DATA_PATH)"
   ]
  },
  {
   "cell_type": "markdown",
   "metadata": {},
   "source": [
    "### Some Feature Engineering\n",
    "\n",
    "drop columns, count encoding, aggregation, fillna"
   ]
  },
  {
   "cell_type": "code",
   "execution_count": 4,
   "metadata": {
    "ExecuteTime": {
     "end_time": "2019-08-12T20:55:24.911570Z",
     "start_time": "2019-08-12T20:55:21.477991Z"
    }
   },
   "outputs": [
    {
     "name": "stdout",
     "output_type": "stream",
     "text": [
      "50 features are going to be dropped for being useless\n"
     ]
    }
   ],
   "source": [
    "train, test = utils.drop_columns(train, test)"
   ]
  },
  {
   "cell_type": "code",
   "execution_count": 5,
   "metadata": {
    "ExecuteTime": {
     "end_time": "2019-08-12T20:55:25.729810Z",
     "start_time": "2019-08-12T20:55:24.913387Z"
    }
   },
   "outputs": [],
   "source": [
    "train, test = fe_browser.latest(train, test)"
   ]
  },
  {
   "cell_type": "code",
   "execution_count": 6,
   "metadata": {
    "ExecuteTime": {
     "end_time": "2019-08-12T20:55:55.337941Z",
     "start_time": "2019-08-12T20:55:25.731434Z"
    }
   },
   "outputs": [],
   "source": [
    "train, test = fe_emails.proton(train, test)\n",
    "\n",
    "train['nulls1'] = train.isna().sum(axis=1)\n",
    "test['nulls1'] = test.isna().sum(axis=1)\n",
    "\n",
    "train, test = fe_emails.mappings(train, test)\n",
    "train, test = fe_emails.labeling(train, test)"
   ]
  },
  {
   "cell_type": "code",
   "execution_count": 7,
   "metadata": {
    "ExecuteTime": {
     "end_time": "2019-08-12T20:55:55.997215Z",
     "start_time": "2019-08-12T20:55:55.340872Z"
    }
   },
   "outputs": [],
   "source": [
    "train, test = fe_cards.stats(train, test)"
   ]
  },
  {
   "cell_type": "code",
   "execution_count": 8,
   "metadata": {
    "ExecuteTime": {
     "end_time": "2019-08-12T20:56:06.123107Z",
     "start_time": "2019-08-12T20:55:55.999325Z"
    }
   },
   "outputs": [],
   "source": [
    "train, test = fe_relatives.divisions(train, test)"
   ]
  },
  {
   "cell_type": "code",
   "execution_count": 9,
   "metadata": {
    "ExecuteTime": {
     "end_time": "2019-08-12T20:56:06.212989Z",
     "start_time": "2019-08-12T20:56:06.124672Z"
    },
    "lines_to_next_cell": 2
   },
   "outputs": [],
   "source": [
    "train, test = fe_date.dates(train, test)"
   ]
  },
  {
   "cell_type": "code",
   "execution_count": 10,
   "metadata": {
    "ExecuteTime": {
     "end_time": "2019-08-12T20:56:27.256559Z",
     "start_time": "2019-08-12T20:56:06.215354Z"
    },
    "lines_to_next_cell": 2
   },
   "outputs": [],
   "source": [
    "train, test = fe_categorical.pairs(train, test)\n",
    "train, test = fe_categorical.wtf(train, test)"
   ]
  },
  {
   "cell_type": "code",
   "execution_count": 11,
   "metadata": {
    "ExecuteTime": {
     "end_time": "2019-08-12T20:56:35.919398Z",
     "start_time": "2019-08-12T20:56:27.258601Z"
    }
   },
   "outputs": [],
   "source": [
    "y_train = train['isFraud'].copy()\n",
    "\n",
    "\n",
    "X_train = train.drop('isFraud', axis=1)\n",
    "X_test = test.copy()\n",
    "\n",
    "del train, test\n",
    "\n",
    "#fill in mean for floats\n",
    "X_train, X_test = prepro.prepro(X_train, X_test)"
   ]
  },
  {
   "cell_type": "markdown",
   "metadata": {},
   "source": [
    "### Model and training"
   ]
  },
  {
   "cell_type": "code",
   "execution_count": 12,
   "metadata": {
    "ExecuteTime": {
     "end_time": "2019-08-12T20:56:35.928314Z",
     "start_time": "2019-08-12T20:56:35.921209Z"
    }
   },
   "outputs": [],
   "source": [
    "submission=sample_submission.copy()\n",
    "submission['isFraud'] = 0"
   ]
  },
  {
   "cell_type": "code",
   "execution_count": 13,
   "metadata": {
    "ExecuteTime": {
     "end_time": "2019-08-12T20:56:35.934448Z",
     "start_time": "2019-08-12T20:56:35.930901Z"
    }
   },
   "outputs": [],
   "source": [
    "model = LGBMClassifier(metric='auc')"
   ]
  },
  {
   "cell_type": "code",
   "execution_count": 14,
   "metadata": {
    "ExecuteTime": {
     "end_time": "2019-08-12T20:56:35.943284Z",
     "start_time": "2019-08-12T20:56:35.936667Z"
    }
   },
   "outputs": [],
   "source": [
    "def objective(trial):\n",
    "    \n",
    "    joblib.dump(study, 'study.pkl')\n",
    "    \n",
    "    num_leaves = trial.suggest_int('num_leaves', 2, 200) \n",
    "    max_depth = trial.suggest_int('max_depth', 2, 100) \n",
    "    n_estimators = trial.suggest_int('n_estimators', 10, 500) \n",
    "    subsample_for_bin = trial.suggest_int('subsample_for_bin', 2000, 300_000) \n",
    "    min_child_samples = trial.suggest_int('min_child_samples', 20, 1000) \n",
    "    reg_alpha = trial.suggest_uniform('reg_alpha', 0.0, 1.0) \n",
    "    colsample_bytree = trial.suggest_uniform('colsample_bytree', 0.6, 1.0) \n",
    "    learning_rate = trial.suggest_loguniform('learning_rate', 1e-5, 1e-0)   \n",
    "\n",
    "    params = {\n",
    "        'num_leaves': num_leaves,\n",
    "        'max_depth': max_depth,\n",
    "        'n_estimators': n_estimators,\n",
    "        'subsample_for_bin': subsample_for_bin,\n",
    "        'min_child_samples': min_child_samples,\n",
    "        'reg_alpha': reg_alpha,\n",
    "        'colsample_bytree': colsample_bytree,\n",
    "        'learning_rate': learning_rate\n",
    "    }\n",
    "    \n",
    "    model.set_params(**params)\n",
    "\n",
    "    return - np.mean(cross_val_score(model, X_train, y_train, cv=4, scoring='roc_auc'))"
   ]
  },
  {
   "cell_type": "code",
   "execution_count": 15,
   "metadata": {
    "ExecuteTime": {
     "end_time": "2019-08-13T05:01:12.268532Z",
     "start_time": "2019-08-12T20:56:35.945678Z"
    }
   },
   "outputs": [],
   "source": [
    "if os.path.isfile('study.pkl'):\n",
    "    study = joblib.load('study.pkl')\n",
    "else:\n",
    "    study = optuna.create_study()\n",
    "study.optimize(objective, timeout=60*60*8)"
   ]
  },
  {
   "cell_type": "code",
   "execution_count": 16,
   "metadata": {
    "ExecuteTime": {
     "end_time": "2019-08-13T05:01:12.390613Z",
     "start_time": "2019-08-13T05:01:12.323727Z"
    }
   },
   "outputs": [
    {
     "name": "stdout",
     "output_type": "stream",
     "text": [
      "{'num_leaves': 116, 'max_depth': 78, 'n_estimators': 273, 'subsample_for_bin': 87043, 'min_child_samples': 1000, 'reg_alpha': 0.9028845416568297, 'colsample_bytree': 0.6967754069828626, 'learning_rate': 0.0442974258725275}\n"
     ]
    }
   ],
   "source": [
    "print(study.best_params)"
   ]
  },
  {
   "cell_type": "code",
   "execution_count": 17,
   "metadata": {
    "ExecuteTime": {
     "end_time": "2019-08-13T05:17:19.579190Z",
     "start_time": "2019-08-13T05:01:12.392993Z"
    }
   },
   "outputs": [
    {
     "name": "stdout",
     "output_type": "stream",
     "text": [
      "ROC accuracy: 0.9582742592595882\n",
      "ROC accuracy: 0.9637357240766808\n",
      "ROC accuracy: 0.9583961402329393\n",
      "ROC accuracy: 0.9582335030618865\n",
      "ROC accuracy: 0.9594001456607438\n",
      "ROC accuracy: 0.9619460730980097\n",
      "ROC accuracy: 0.9609497665977594\n",
      "ROC accuracy: 0.9577101737225144\n"
     ]
    }
   ],
   "source": [
    "n_fold = 8\n",
    "folds = KFold(n_splits=n_fold, shuffle=True)\n",
    "\n",
    "for train_index, valid_index in folds.split(X_train):\n",
    "    model.set_params(**study.best_params)\n",
    "    X_train_, X_valid = X_train.iloc[train_index], X_train.iloc[valid_index]\n",
    "    y_train_, y_valid = y_train.iloc[train_index], y_train.iloc[valid_index]\n",
    "    model.fit(X_train_,y_train_)\n",
    "    del X_train_,y_train_\n",
    "    pred=model.predict_proba(X_test)[:,1]\n",
    "    val=model.predict_proba(X_valid)[:,1]\n",
    "    del X_valid\n",
    "    print('ROC accuracy: {}'.format(roc_auc_score(y_valid, val)))\n",
    "    del val, y_valid\n",
    "    submission['isFraud'] = submission['isFraud'] + pred / n_fold\n",
    "    del pred"
   ]
  },
  {
   "cell_type": "code",
   "execution_count": 18,
   "metadata": {
    "ExecuteTime": {
     "end_time": "2019-08-13T05:17:21.037347Z",
     "start_time": "2019-08-13T05:17:19.587056Z"
    }
   },
   "outputs": [],
   "source": [
    "submission.to_csv('submission.csv')"
   ]
  }
 ],
 "metadata": {
  "jupytext": {
   "formats": "ipynb,py:percent"
  },
  "kernelspec": {
   "display_name": "Python 3",
   "language": "python",
   "name": "python3"
  },
  "language_info": {
   "codemirror_mode": {
    "name": "ipython",
    "version": 3
   },
   "file_extension": ".py",
   "mimetype": "text/x-python",
   "name": "python",
   "nbconvert_exporter": "python",
   "pygments_lexer": "ipython3",
   "version": "3.6.8"
  }
 },
 "nbformat": 4,
 "nbformat_minor": 2
}
