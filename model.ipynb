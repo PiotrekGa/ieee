{
 "cells": [
  {
   "cell_type": "code",
   "execution_count": 1,
   "metadata": {
    "ExecuteTime": {
     "end_time": "2019-09-12T11:52:57.522953Z",
     "start_time": "2019-09-12T11:52:55.450162Z"
    }
   },
   "outputs": [
    {
     "name": "stderr",
     "output_type": "stream",
     "text": [
      "/Users/piotrgabrys/.pyenv/versions/miniconda3-4.3.30/lib/python3.6/site-packages/lightgbm/__init__.py:46: UserWarning: Starting from version 2.2.1, the library file in distribution wheels for macOS is built by the Apple Clang (Xcode_8.3.3) compiler.\n",
      "This means that in case of installing LightGBM from PyPI via the ``pip install lightgbm`` command, you don't need to install the gcc compiler anymore.\n",
      "Instead of that, you need to install the OpenMP library, which is required for running LightGBM on the system with the Apple Clang compiler.\n",
      "You can install the OpenMP library by the following command: ``brew install libomp``.\n",
      "  \"You can install the OpenMP library by the following command: ``brew install libomp``.\", UserWarning)\n"
     ]
    }
   ],
   "source": [
    "import os\n",
    "import gc\n",
    "import numpy as np\n",
    "import pandas as pd\n",
    "import joblib\n",
    "from datetime import datetime\n",
    "\n",
    "from lightgbm import LGBMClassifier\n",
    "import optuna\n",
    "from prunedcv import PrunedCV\n",
    "\n",
    "from codes.utils import import_data, drop_columns, cross_val_score_auc, reduce_mem_usage, fix_dtypes\n",
    "from codes.fe_browser import latest\n",
    "from codes.fe_emails import proton, mappings, labeling\n",
    "from codes.fe_cards import stats\n",
    "from codes.fe_date import dates\n",
    "from codes.fe_relatives import divisions\n",
    "from codes.fe_categorical import pairs, wtf, cat_limit\n",
    "from codes.prepro import prepro\n",
    "from codes.fe_users import users_stats\n",
    "\n",
    "from sklearn.feature_selection import RFECV, SelectFromModel\n",
    "from sklearn.ensemble import RandomForestClassifier\n",
    "from sklearn.pipeline import make_pipeline\n",
    "from sklearn.base import TransformerMixin"
   ]
  },
  {
   "cell_type": "code",
   "execution_count": 2,
   "metadata": {
    "ExecuteTime": {
     "end_time": "2019-09-12T11:52:57.527885Z",
     "start_time": "2019-09-12T11:52:57.524975Z"
    },
    "lines_to_next_cell": 2
   },
   "outputs": [],
   "source": [
    "DATA_PATH = '../input/'\n",
    "SEARCH_PARAMS = False\n",
    "SEARCH_FEATURES = False\n",
    "N_FOLD = 8"
   ]
  },
  {
   "cell_type": "code",
   "execution_count": 51,
   "metadata": {
    "ExecuteTime": {
     "end_time": "2019-09-12T12:44:29.779600Z",
     "start_time": "2019-09-12T12:44:20.778511Z"
    },
    "_cell_guid": "79c7e3d0-c299-4dcb-8224-4455121ee9b0",
    "_uuid": "d629ff2d2480ee46fbb7e2d37f6b5fab8052498a",
    "lines_to_next_cell": 2
   },
   "outputs": [],
   "source": [
    "train, test, sample_submission = import_data(DATA_PATH)"
   ]
  },
  {
   "cell_type": "markdown",
   "metadata": {},
   "source": [
    "### Some Feature Engineering\n",
    "\n",
    "drop columns, count encoding, aggregation, fillna"
   ]
  },
  {
   "cell_type": "code",
   "execution_count": 52,
   "metadata": {
    "ExecuteTime": {
     "end_time": "2019-09-12T12:48:16.689260Z",
     "start_time": "2019-09-12T12:44:29.781632Z"
    },
    "scrolled": true
   },
   "outputs": [
    {
     "name": "stderr",
     "output_type": "stream",
     "text": [
      "/Users/piotrgabrys/data/python3/ieee/codes/fe_users.py:17: FutureWarning: Sorting because non-concatenation axis is not aligned. A future version\n",
      "of pandas will change to not sort by default.\n",
      "\n",
      "To accept the future behavior, pass 'sort=False'.\n",
      "\n",
      "To retain the current behavior and silence the warning, pass 'sort=True'.\n",
      "\n",
      "  all_data = pd.concat([train, test])\n"
     ]
    }
   ],
   "source": [
    "train, test = fix_dtypes(train, test)\n",
    "\n",
    "train, test = users_stats(train, test)\n",
    "\n",
    "train, test = latest(train, test)\n",
    "\n",
    "train, test = proton(train, test)\n",
    "\n",
    "train['nulls1'] = train.isna().sum(axis=1)\n",
    "test['nulls1'] = test.isna().sum(axis=1)\n",
    "\n",
    "train, test = mappings(train, test)\n",
    "\n",
    "train, test = stats(train, test)\n",
    "\n",
    "train, test = divisions(train, test)\n",
    "\n",
    "train, test = dates(train, test)\n",
    "\n",
    "train, test = pairs(train, test)\n",
    "\n",
    "cat_list = list(train.dtypes[train.dtypes == 'object'].index)\n",
    "cats_to_list = []\n",
    "for feat in cat_list:\n",
    "    train, test = cat_limit(train, test, feat)\n",
    "    cats_to_list.extend(list(train[feat].unique()))\n",
    "    \n",
    "cats_to_list = list(set(cats_to_list))\n",
    "cats_to_list.remove('unknown')\n",
    "\n",
    "cats_to_dict = {}\n",
    "cats_to_dict['unknown'] = -1\n",
    "cnt = 1 \n",
    "for feat in cats_to_list:\n",
    "    cats_to_dict[feat] = cnt\n",
    "    cnt += 1\n",
    "    \n",
    "for feat in cat_list:\n",
    "    train[feat] = train[feat].map(cats_to_dict)\n",
    "    test[feat] = test[feat].map(cats_to_dict)\n",
    "    train.loc[train.loc[:, feat] < 0, feat] = np.random.rand((train.loc[:, feat] < 0).sum()) - 1\n",
    "    test.loc[test.loc[:, feat] < 0, feat] = np.random.rand((test.loc[:, feat] < 0).sum()) - 1\n",
    "\n",
    "# train, test = wtf(train, test)\n",
    "\n",
    "y_train = train['isFraud'].copy()\n",
    "\n",
    "X_train = train.drop('isFraud', axis=1)\n",
    "X_test = test.copy()\n",
    "\n",
    "del train, test\n",
    "\n",
    "#fill in mean for floats\n",
    "X_train, X_test = prepro(X_train, X_test)"
   ]
  },
  {
   "cell_type": "markdown",
   "metadata": {},
   "source": [
    "### Model and training"
   ]
  },
  {
   "cell_type": "code",
   "execution_count": 53,
   "metadata": {
    "ExecuteTime": {
     "end_time": "2019-09-12T12:48:27.896697Z",
     "start_time": "2019-09-12T12:48:16.692520Z"
    }
   },
   "outputs": [],
   "source": [
    "columns = list(set(\n",
    "['C{}'.format(i) for i in range(1,15)] \\\n",
    "+ ['D{}'.format(i) for i in range(1,16)] \\\n",
    "+ ['V' + str(i) for i in range(1,340)]))\n",
    "\n",
    "for col in columns:\n",
    "    if col in X_train.columns:\n",
    "        X_train[col + '_' + 'trx'] = X_train[col] / X_train.TransactionAmt\n",
    "        X_test[col + '_' + 'trx'] = X_test[col] / X_test.TransactionAmt"
   ]
  },
  {
   "cell_type": "code",
   "execution_count": 54,
   "metadata": {
    "ExecuteTime": {
     "end_time": "2019-09-12T12:48:52.346486Z",
     "start_time": "2019-09-12T12:48:27.898338Z"
    }
   },
   "outputs": [
    {
     "name": "stdout",
     "output_type": "stream",
     "text": [
      "Mem. usage decreased to 1953.97 Mb (8.5% reduction)\n",
      "Mem. usage decreased to 1661.30 Mb (8.5% reduction)\n"
     ]
    }
   ],
   "source": [
    "X_train = reduce_mem_usage(X_train)\n",
    "X_test = reduce_mem_usage(X_test)"
   ]
  },
  {
   "cell_type": "code",
   "execution_count": 55,
   "metadata": {
    "ExecuteTime": {
     "end_time": "2019-09-12T12:51:11.505282Z",
     "start_time": "2019-09-12T12:48:52.349033Z"
    }
   },
   "outputs": [],
   "source": [
    "X_train[X_train == np.inf] = -1\n",
    "X_train[X_train == -np.inf] = -1\n",
    "X_test[X_test == np.inf] = -1\n",
    "X_test[X_test == -np.inf] = -1\n",
    "X_train[X_test.isna()] = -1\n",
    "X_test[X_test.isna()] = -1"
   ]
  },
  {
   "cell_type": "code",
   "execution_count": 56,
   "metadata": {
    "ExecuteTime": {
     "end_time": "2019-09-12T12:51:13.931690Z",
     "start_time": "2019-09-12T12:51:11.527005Z"
    }
   },
   "outputs": [],
   "source": [
    "X_test.drop(['TransactionDT'], axis=1, inplace=True)\n",
    "X_train.drop(['TransactionDT'], axis=1, inplace=True)"
   ]
  },
  {
   "cell_type": "code",
   "execution_count": 57,
   "metadata": {
    "ExecuteTime": {
     "end_time": "2019-09-12T12:55:34.393770Z",
     "start_time": "2019-09-12T12:51:13.935247Z"
    }
   },
   "outputs": [
    {
     "name": "stdout",
     "output_type": "stream",
     "text": [
      "854\n",
      "481\n"
     ]
    }
   ],
   "source": [
    "sfm = SelectFromModel(LGBMClassifier(metric='auc'), threshold=0.5)\n",
    "sfm.fit(X_train, y_train)\n",
    "\n",
    "\n",
    "print(X_train.shape[1])\n",
    "columns = list(X_train.columns[sfm.get_support()])\n",
    "print(len(columns))\n",
    "X_train = X_train.loc[:,columns]\n",
    "X_test = X_test.loc[:,columns]"
   ]
  },
  {
   "cell_type": "code",
   "execution_count": 58,
   "metadata": {
    "ExecuteTime": {
     "end_time": "2019-09-12T12:55:34.417334Z",
     "start_time": "2019-09-12T12:55:34.409537Z"
    }
   },
   "outputs": [],
   "source": [
    "class Counter(TransformerMixin):\n",
    "    \n",
    "    def fit(self, X, y=None):\n",
    "        return self\n",
    "    \n",
    "    def transform(self, X):\n",
    "        print(X.shape[1])\n",
    "        return X"
   ]
  },
  {
   "cell_type": "code",
   "execution_count": 59,
   "metadata": {
    "ExecuteTime": {
     "end_time": "2019-09-12T12:55:34.425631Z",
     "start_time": "2019-09-12T12:55:34.420475Z"
    }
   },
   "outputs": [],
   "source": [
    "model = make_pipeline(\n",
    "    SelectFromModel(LGBMClassifier(metric='auc')),\n",
    "#     Counter(),\n",
    "    LGBMClassifier(metric='auc',\n",
    "                   n_estimators=1000)\n",
    ")"
   ]
  },
  {
   "cell_type": "code",
   "execution_count": 60,
   "metadata": {
    "ExecuteTime": {
     "end_time": "2019-09-12T12:55:34.434210Z",
     "start_time": "2019-09-12T12:55:34.428928Z"
    }
   },
   "outputs": [],
   "source": [
    "prun = PrunedCV(N_FOLD, 0.03, minimize=False)"
   ]
  },
  {
   "cell_type": "code",
   "execution_count": 61,
   "metadata": {
    "ExecuteTime": {
     "end_time": "2019-09-12T12:55:34.447772Z",
     "start_time": "2019-09-12T12:55:34.437009Z"
    }
   },
   "outputs": [],
   "source": [
    "def objective(trial):\n",
    "    \n",
    "    joblib.dump(study, 'study.pkl') \n",
    "\n",
    "    \n",
    "    params = {\n",
    "        'selectfrommodel__threshold': trial.suggest_int('selectfrommodel__threshold', 1, 100),\n",
    "        'lgbmclassifier__num_leaves': trial.suggest_int('lgbmclassifier__num_leaves', 10, 1500), \n",
    "        'lgbmclassifier__subsample_for_bin': trial.suggest_int('lgbmclassifier__subsample_for_bin', 10, 3000000), \n",
    "        'lgbmclassifier__min_child_samples': trial.suggest_int('lgbmclassifier__min_child_samples', 2, 100000), \n",
    "        'lgbmclassifier__reg_alpha': trial.suggest_loguniform('lgbmclassifier__reg_alpha', 0.00000000001, 10.0),\n",
    "        'lgbmclassifier__colsample_bytree': trial.suggest_loguniform('lgbmclassifier__colsample_bytree', 0.0001, 1.0),\n",
    "        'lgbmclassifier__learning_rate': trial.suggest_loguniform('lgbmclassifier__learning_rate', 0.000001, 10.0)\n",
    "    }\n",
    "    \n",
    "    print(params)\n",
    "    \n",
    "    model.set_params(**params)\n",
    "    return prun.cross_val_score(model, \n",
    "                                X_train, \n",
    "                                y_train, \n",
    "                                metric='auc', \n",
    "                                shuffle=True, \n",
    "                                random_state=42)"
   ]
  },
  {
   "cell_type": "code",
   "execution_count": 62,
   "metadata": {
    "ExecuteTime": {
     "end_time": "2019-09-12T12:55:34.459401Z",
     "start_time": "2019-09-12T12:55:34.450176Z"
    },
    "scrolled": true
   },
   "outputs": [],
   "source": [
    "if SEARCH_PARAMS:\n",
    "    if os.path.isfile('study.pkl'):\n",
    "        study = joblib.load('study.pkl')\n",
    "    else:\n",
    "        study = optuna.create_study()\n",
    "\n",
    "    study.optimize(objective, timeout=60 * 60 * 22)\n",
    "    joblib.dump(study, 'study.pkl')\n",
    "    best_params = study.best_params\n",
    "\n",
    "else:\n",
    "\n",
    "    best_params = {\n",
    "        'selectfrommodel__threshold': 11,\n",
    "        'lgbmclassifier__num_leaves': 330,\n",
    "        'lgbmclassifier__subsample_for_bin': 2077193,\n",
    "        'lgbmclassifier__min_child_samples': 2227,\n",
    "        'lgbmclassifier__reg_alpha': 0.16758905622425835,\n",
    "        'lgbmclassifier__colsample_bytree': 0.49030006727392056,\n",
    "        'lgbmclassifier__learning_rate': 0.07916040470631734\n",
    "    }"
   ]
  },
  {
   "cell_type": "code",
   "execution_count": 63,
   "metadata": {
    "ExecuteTime": {
     "end_time": "2019-09-12T13:53:20.820721Z",
     "start_time": "2019-09-12T12:55:34.462071Z"
    }
   },
   "outputs": [
    {
     "data": {
      "application/vnd.jupyter.widget-view+json": {
       "model_id": "22caeb39b3d0436a9cdf506433449f2e",
       "version_major": 2,
       "version_minor": 0
      },
      "text/plain": [
       "HBox(children=(IntProgress(value=0, max=8), HTML(value='')))"
      ]
     },
     "metadata": {},
     "output_type": "display_data"
    },
    {
     "name": "stdout",
     "output_type": "stream",
     "text": [
      "ROC accuracy: 0.9676650443569281, Train: 0.9999605843186911\n",
      "ROC accuracy: 0.9713372833875739, Train: 0.9999935874507728\n",
      "ROC accuracy: 0.9735183811543917, Train: 0.9999641123743416\n",
      "ROC accuracy: 0.9728271039992634, Train: 0.9999702495073965\n",
      "ROC accuracy: 0.9693236040944672, Train: 0.9999760357981837\n",
      "ROC accuracy: 0.9691145944425243, Train: 0.9999765673773133\n",
      "ROC accuracy: 0.972783575195961, Train: 0.9999754496313613\n",
      "ROC accuracy: 0.9705620495978529, Train: 0.9999855384295235\n",
      "\n",
      "\n"
     ]
    },
    {
     "data": {
      "text/plain": [
       "0.9708914545286202"
      ]
     },
     "execution_count": 63,
     "metadata": {},
     "output_type": "execute_result"
    }
   ],
   "source": [
    "model.set_params(**best_params)\n",
    "\n",
    "cross_val_score_auc(model,\n",
    "                    X_train,\n",
    "                    y_train,\n",
    "                    n_fold=N_FOLD,\n",
    "                    stratify=True,\n",
    "                    shuffle=True,\n",
    "                    random_state=42,\n",
    "                    predict=True,\n",
    "                    X_test=X_test,\n",
    "                    submission=sample_submission)"
   ]
  },
  {
   "cell_type": "code",
   "execution_count": null,
   "metadata": {
    "ExecuteTime": {
     "end_time": "2019-09-12T11:49:50.503328Z",
     "start_time": "2019-09-12T11:46:58.408Z"
    }
   },
   "outputs": [],
   "source": [
    "# ROC accuracy: 0.9720145659778652, Train: 0.9999286851251716\n",
    "# ROC accuracy: 0.9751973430652895, Train: 0.9999328083814578\n",
    "# ROC accuracy: 0.9760593919549079, Train: 0.9998439324257781\n",
    "# ROC accuracy: 0.9759738566311452, Train: 0.9999420044309371\n",
    "# ROC accuracy: 0.972072614889331, Train: 0.9999141682082874\n",
    "# ROC accuracy: 0.9726377525006845, Train: 0.9999124343601277\n",
    "# ROC accuracy: 0.9749191757697562, Train: 0.9999151580131841\n",
    "# ROC accuracy: 0.9739376183885246, Train: 0.9998564849540118\n",
    "\n",
    "\n",
    "# 0.974101539897188"
   ]
  }
 ],
 "metadata": {
  "jupytext": {
   "formats": "ipynb,py:percent"
  },
  "kernelspec": {
   "display_name": "Python 3",
   "language": "python",
   "name": "python3"
  },
  "language_info": {
   "codemirror_mode": {
    "name": "ipython",
    "version": 3
   },
   "file_extension": ".py",
   "mimetype": "text/x-python",
   "name": "python",
   "nbconvert_exporter": "python",
   "pygments_lexer": "ipython3",
   "version": "3.6.8"
  }
 },
 "nbformat": 4,
 "nbformat_minor": 2
}
