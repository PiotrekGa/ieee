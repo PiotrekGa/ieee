{
 "cells": [
  {
   "cell_type": "code",
   "execution_count": 1,
   "metadata": {
    "ExecuteTime": {
     "end_time": "2019-09-06T13:30:40.403252Z",
     "start_time": "2019-09-06T13:30:38.116827Z"
    }
   },
   "outputs": [
    {
     "name": "stderr",
     "output_type": "stream",
     "text": [
      "/Users/piotrgabrys/.pyenv/versions/miniconda3-4.3.30/lib/python3.6/site-packages/lightgbm/__init__.py:46: UserWarning: Starting from version 2.2.1, the library file in distribution wheels for macOS is built by the Apple Clang (Xcode_8.3.3) compiler.\n",
      "This means that in case of installing LightGBM from PyPI via the ``pip install lightgbm`` command, you don't need to install the gcc compiler anymore.\n",
      "Instead of that, you need to install the OpenMP library, which is required for running LightGBM on the system with the Apple Clang compiler.\n",
      "You can install the OpenMP library by the following command: ``brew install libomp``.\n",
      "  \"You can install the OpenMP library by the following command: ``brew install libomp``.\", UserWarning)\n"
     ]
    }
   ],
   "source": [
    "import os\n",
    "import gc\n",
    "import numpy as np\n",
    "import pandas as pd\n",
    "import joblib\n",
    "from datetime import datetime\n",
    "\n",
    "from lightgbm import LGBMClassifier\n",
    "import optuna\n",
    "from prunedcv import PrunedCV\n",
    "\n",
    "from codes.utils import import_data, drop_columns, cross_val_score_auc, reduce_mem_usage\n",
    "from codes.fe_browser import latest\n",
    "from codes.fe_emails import proton, mappings, labeling\n",
    "from codes.fe_cards import stats\n",
    "from codes.fe_date import dates\n",
    "from codes.fe_relatives import divisions\n",
    "from codes.fe_categorical import pairs, wtf\n",
    "from codes.prepro import prepro\n",
    "from codes.fe_users import users_stats\n",
    "\n",
    "from sklearn.feature_selection import RFECV"
   ]
  },
  {
   "cell_type": "code",
   "execution_count": 2,
   "metadata": {
    "ExecuteTime": {
     "end_time": "2019-09-06T13:30:40.408170Z",
     "start_time": "2019-09-06T13:30:40.405216Z"
    },
    "lines_to_next_cell": 2
   },
   "outputs": [],
   "source": [
    "DATA_PATH = '../input/'\n",
    "SEARCH_PARAMS = True\n",
    "N_FOLD = 8"
   ]
  },
  {
   "cell_type": "code",
   "execution_count": 3,
   "metadata": {
    "ExecuteTime": {
     "end_time": "2019-09-06T13:30:47.776200Z",
     "start_time": "2019-09-06T13:30:40.410517Z"
    },
    "_cell_guid": "79c7e3d0-c299-4dcb-8224-4455121ee9b0",
    "_uuid": "d629ff2d2480ee46fbb7e2d37f6b5fab8052498a",
    "lines_to_next_cell": 2
   },
   "outputs": [],
   "source": [
    "train, test, sample_submission = import_data(DATA_PATH)"
   ]
  },
  {
   "cell_type": "markdown",
   "metadata": {},
   "source": [
    "### Some Feature Engineering\n",
    "\n",
    "drop columns, count encoding, aggregation, fillna"
   ]
  },
  {
   "cell_type": "code",
   "execution_count": 4,
   "metadata": {
    "ExecuteTime": {
     "end_time": "2019-09-06T13:33:18.431373Z",
     "start_time": "2019-09-06T13:30:47.778543Z"
    }
   },
   "outputs": [
    {
     "name": "stderr",
     "output_type": "stream",
     "text": [
      "/Users/piotrgabrys/data/python3/ieee/codes/fe_users.py:17: FutureWarning: Sorting because non-concatenation axis is not aligned. A future version\n",
      "of pandas will change to not sort by default.\n",
      "\n",
      "To accept the future behavior, pass 'sort=False'.\n",
      "\n",
      "To retain the current behavior and silence the warning, pass 'sort=True'.\n",
      "\n",
      "  all_data = pd.concat([train, test])\n"
     ]
    },
    {
     "name": "stdout",
     "output_type": "stream",
     "text": [
      "50 features are going to be dropped for being useless\n",
      "Mem. usage decreased to 1003.32 Mb (12.2% reduction)\n",
      "Mem. usage decreased to 845.63 Mb (12.2% reduction)\n"
     ]
    }
   ],
   "source": [
    "train, test = users_stats(train, test)\n",
    "\n",
    "train, test = drop_columns(train, test)\n",
    "\n",
    "train, test = latest(train, test)\n",
    "\n",
    "train, test = proton(train, test)\n",
    "\n",
    "train['nulls1'] = train.isna().sum(axis=1)\n",
    "test['nulls1'] = test.isna().sum(axis=1)\n",
    "\n",
    "train, test = mappings(train, test)\n",
    "train, test = labeling(train, test)\n",
    "\n",
    "train, test = stats(train, test)\n",
    "\n",
    "train, test = divisions(train, test)\n",
    "\n",
    "train, test = dates(train, test)\n",
    "\n",
    "train, test = pairs(train, test)\n",
    "train, test = wtf(train, test)\n",
    "\n",
    "y_train = train['isFraud'].copy()\n",
    "\n",
    "\n",
    "X_train = train.drop('isFraud', axis=1)\n",
    "X_test = test.copy()\n",
    "\n",
    "del train, test\n",
    "\n",
    "#fill in mean for floats\n",
    "X_train, X_test = prepro(X_train, X_test)\n",
    "\n",
    "X_train = reduce_mem_usage(X_train)\n",
    "X_test = reduce_mem_usage(X_test)"
   ]
  },
  {
   "cell_type": "code",
   "execution_count": 5,
   "metadata": {
    "ExecuteTime": {
     "end_time": "2019-09-06T13:33:18.461172Z",
     "start_time": "2019-09-06T13:33:18.453541Z"
    }
   },
   "outputs": [],
   "source": [
    "# columns = list(set(\n",
    "# ['C{}'.format(i) for i in range(1,15)] \\\n",
    "# + ['D{}'.format(i) for i in range(1,16)] \\\n",
    "# + ['V' + str(i) for i in range(1,340)]))\n",
    "\n",
    "# for col in columns:\n",
    "#     if col in X_train.columns:\n",
    "#         X_train[col + '_' + 'trx'] = X_train.TransactionAmt * X_train[col]\n",
    "#         X_test[col + '_' + 'trx'] = X_test.TransactionAmt * X_test[col]"
   ]
  },
  {
   "cell_type": "markdown",
   "metadata": {},
   "source": [
    "### Model and training"
   ]
  },
  {
   "cell_type": "code",
   "execution_count": 6,
   "metadata": {
    "ExecuteTime": {
     "end_time": "2019-09-06T13:33:50.316218Z",
     "start_time": "2019-09-06T13:33:18.468528Z"
    }
   },
   "outputs": [],
   "source": [
    "X_train[X_train == np.inf] = -1\n",
    "X_train[X_train == -np.inf] = -1\n",
    "X_test[X_test == np.inf] = -1\n",
    "X_test[X_test == -np.inf] = -1"
   ]
  },
  {
   "cell_type": "code",
   "execution_count": 7,
   "metadata": {
    "ExecuteTime": {
     "end_time": "2019-09-06T13:33:51.495756Z",
     "start_time": "2019-09-06T13:33:50.318501Z"
    }
   },
   "outputs": [],
   "source": [
    "X_train.drop(['TransactionDT', 'TransactionAmt'], axis=1, inplace=True)\n",
    "X_test.drop(['TransactionDT', 'TransactionAmt'], axis=1, inplace=True)"
   ]
  },
  {
   "cell_type": "code",
   "execution_count": 8,
   "metadata": {
    "ExecuteTime": {
     "end_time": "2019-09-06T14:24:44.421044Z",
     "start_time": "2019-09-06T13:33:51.497594Z"
    }
   },
   "outputs": [
    {
     "name": "stdout",
     "output_type": "stream",
     "text": [
      "Fitting estimator with 431 features.\n",
      "Fitting estimator with 406 features.\n",
      "Fitting estimator with 381 features.\n",
      "Fitting estimator with 356 features.\n",
      "Fitting estimator with 331 features.\n",
      "Fitting estimator with 306 features.\n",
      "Fitting estimator with 281 features.\n",
      "Fitting estimator with 256 features.\n",
      "Fitting estimator with 231 features.\n",
      "Fitting estimator with 206 features.\n",
      "Fitting estimator with 181 features.\n",
      "Fitting estimator with 156 features.\n",
      "Fitting estimator with 131 features.\n",
      "Fitting estimator with 106 features.\n",
      "Fitting estimator with 81 features.\n",
      "Fitting estimator with 56 features.\n",
      "Fitting estimator with 431 features.\n",
      "Fitting estimator with 406 features.\n",
      "Fitting estimator with 381 features.\n",
      "Fitting estimator with 356 features.\n",
      "Fitting estimator with 331 features.\n",
      "Fitting estimator with 306 features.\n",
      "Fitting estimator with 281 features.\n",
      "Fitting estimator with 256 features.\n",
      "Fitting estimator with 231 features.\n",
      "Fitting estimator with 206 features.\n",
      "Fitting estimator with 181 features.\n",
      "Fitting estimator with 156 features.\n",
      "Fitting estimator with 131 features.\n",
      "Fitting estimator with 106 features.\n",
      "Fitting estimator with 81 features.\n",
      "Fitting estimator with 56 features.\n",
      "Fitting estimator with 431 features.\n",
      "Fitting estimator with 406 features.\n",
      "Fitting estimator with 381 features.\n",
      "Fitting estimator with 356 features.\n",
      "Fitting estimator with 331 features.\n",
      "Fitting estimator with 306 features.\n",
      "Fitting estimator with 281 features.\n",
      "Fitting estimator with 256 features.\n",
      "Fitting estimator with 231 features.\n",
      "Fitting estimator with 206 features.\n",
      "Fitting estimator with 181 features.\n",
      "Fitting estimator with 156 features.\n",
      "Fitting estimator with 131 features.\n",
      "Fitting estimator with 106 features.\n",
      "Fitting estimator with 81 features.\n",
      "Fitting estimator with 56 features.\n",
      "Fitting estimator with 431 features.\n",
      "Fitting estimator with 406 features.\n",
      "Fitting estimator with 381 features.\n",
      "Fitting estimator with 356 features.\n",
      "Fitting estimator with 331 features.\n",
      "Fitting estimator with 306 features.\n",
      "Fitting estimator with 281 features.\n",
      "Fitting estimator with 256 features.\n",
      "Fitting estimator with 231 features.\n",
      "Fitting estimator with 206 features.\n",
      "Fitting estimator with 181 features.\n",
      "Fitting estimator with 156 features.\n",
      "Fitting estimator with 131 features.\n",
      "Fitting estimator with 106 features.\n",
      "Fitting estimator with 81 features.\n",
      "Fitting estimator with 56 features.\n",
      "Fitting estimator with 431 features.\n",
      "Fitting estimator with 406 features.\n",
      "Fitting estimator with 381 features.\n",
      "Fitting estimator with 356 features.\n",
      "Fitting estimator with 331 features.\n",
      "Fitting estimator with 306 features.\n",
      "Fitting estimator with 281 features.\n",
      "Fitting estimator with 256 features.\n",
      "Fitting estimator with 231 features.\n"
     ]
    }
   ],
   "source": [
    "best_params = {'num_leaves': 302,\n",
    "                 'max_depth': 157,\n",
    "                 'subsample_for_bin': 290858,\n",
    "                 'min_child_samples': 79,\n",
    "                 'reg_alpha': 0.9919573524807885,\n",
    "                 'colsample_bytree': 0.5653288564015742,\n",
    "                 'learning_rate': 0.028565794309535042}\n",
    "mod = LGBMClassifier(metric='auc',\n",
    "                     boosting_type='gbdt')\n",
    "mod.set_params(**best_params)\n",
    "rfe = RFECV(mod, step=25, min_features_to_select=150, cv=4, scoring='roc_auc', verbose=1)\n",
    "rfe.fit(X_train, y_train)\n",
    "\n",
    "X_train = rfe.transform(X_train)\n",
    "X_test = rfe.transform(X_test)"
   ]
  },
  {
   "cell_type": "code",
   "execution_count": 9,
   "metadata": {
    "ExecuteTime": {
     "end_time": "2019-09-06T14:24:44.536258Z",
     "start_time": "2019-09-06T14:24:44.489199Z"
    }
   },
   "outputs": [],
   "source": [
    "model = LGBMClassifier(metric='auc',\n",
    "                       n_estimators=1000,\n",
    "                       boosting_type='gbdt')"
   ]
  },
  {
   "cell_type": "code",
   "execution_count": 15,
   "metadata": {
    "ExecuteTime": {
     "end_time": "2019-09-06T16:05:13.034987Z",
     "start_time": "2019-09-06T16:05:13.019966Z"
    }
   },
   "outputs": [],
   "source": [
    "SEARCH_PARAMS = True"
   ]
  },
  {
   "cell_type": "code",
   "execution_count": 16,
   "metadata": {
    "ExecuteTime": {
     "end_time": "2019-09-06T16:05:13.367328Z",
     "start_time": "2019-09-06T16:05:13.355219Z"
    }
   },
   "outputs": [],
   "source": [
    "prun = PrunedCV(N_FOLD, 0.02, minimize=False)"
   ]
  },
  {
   "cell_type": "code",
   "execution_count": 17,
   "metadata": {
    "ExecuteTime": {
     "end_time": "2019-09-06T16:05:13.822243Z",
     "start_time": "2019-09-06T16:05:13.809560Z"
    }
   },
   "outputs": [],
   "source": [
    "def objective(trial):\n",
    "    \n",
    "    joblib.dump(study, 'study.pkl') \n",
    "    \n",
    "    params = {\n",
    "        'num_leaves': trial.suggest_int('num_leaves', 10, 1500), \n",
    "        'max_depth': trial.suggest_int('max_depth', 10, 1500), \n",
    "        'subsample_for_bin': trial.suggest_int('subsample_for_bin', 10, 3000000), \n",
    "        'min_child_samples': trial.suggest_int('min_child_samples', 2, 100000), \n",
    "        'reg_alpha': trial.suggest_loguniform('reg_alpha', 0.00000000001, 10.0),\n",
    "        'colsample_bytree': trial.suggest_loguniform('colsample_bytree', 0.0001, 1.0),\n",
    "        'learning_rate': trial.suggest_loguniform('learning_rate', 0.000001, 10.0)  \n",
    "    }\n",
    "    \n",
    "#     params = {\n",
    "#         'num_leaves': trial.suggest_int('num_leaves', 300, 310), \n",
    "#         'max_depth': trial.suggest_int('max_depth', 150, 160), \n",
    "#         'subsample_for_bin': trial.suggest_int('subsample_for_bin', 290000, 291000), \n",
    "#         'min_child_samples': trial.suggest_int('min_child_samples', 75, 82), \n",
    "#         'reg_alpha': trial.suggest_loguniform('reg_alpha', 0.990, 0.993),\n",
    "#         'colsample_bytree': trial.suggest_loguniform('colsample_bytree', 0.55, 0.58),\n",
    "#         'learning_rate': trial.suggest_loguniform('learning_rate', 0.02, 0.03)  \n",
    "#     }\n",
    "    \n",
    "    \n",
    "    model.set_params(**params)\n",
    "\n",
    "    return prun.cross_val_score(model, \n",
    "                                X_train, \n",
    "                                y_train, \n",
    "                                metric='auc', \n",
    "                                shuffle=True, \n",
    "                                random_state=42)"
   ]
  },
  {
   "cell_type": "code",
   "execution_count": null,
   "metadata": {
    "ExecuteTime": {
     "start_time": "2019-09-06T17:00:34.447Z"
    },
    "scrolled": true
   },
   "outputs": [
    {
     "name": "stderr",
     "output_type": "stream",
     "text": [
      "[I 2019-09-06 19:03:19,290] Finished trial#1 resulted in value: -0.8781856921688671. Current best value is -0.8781856921688671 with parameters: {'num_leaves': 528, 'max_depth': 1168, 'subsample_for_bin': 2068159, 'min_child_samples': 56081, 'reg_alpha': 0.83937678064185, 'colsample_bytree': 0.006678515656431696, 'learning_rate': 0.8799825205929812}.\n",
      "[I 2019-09-06 19:04:12,883] Finished trial#2 resulted in value: -0.8549639254593047. Current best value is -0.8781856921688671 with parameters: {'num_leaves': 528, 'max_depth': 1168, 'subsample_for_bin': 2068159, 'min_child_samples': 56081, 'reg_alpha': 0.83937678064185, 'colsample_bytree': 0.006678515656431696, 'learning_rate': 0.8799825205929812}.\n",
      "[I 2019-09-06 19:06:49,213] Finished trial#3 resulted in value: -0.8828669994139955. Current best value is -0.8828669994139955 with parameters: {'num_leaves': 498, 'max_depth': 1259, 'subsample_for_bin': 2883343, 'min_child_samples': 47979, 'reg_alpha': 0.6309799889159281, 'colsample_bytree': 0.00010962245844223844, 'learning_rate': 1.3862828984998123}.\n",
      "[I 2019-09-06 19:07:19,645] Finished trial#4 resulted in value: -0.7636106598630141. Current best value is -0.8828669994139955 with parameters: {'num_leaves': 498, 'max_depth': 1259, 'subsample_for_bin': 2883343, 'min_child_samples': 47979, 'reg_alpha': 0.6309799889159281, 'colsample_bytree': 0.00010962245844223844, 'learning_rate': 1.3862828984998123}.\n",
      "[I 2019-09-06 19:08:03,577] Finished trial#5 resulted in value: -0.7949688422381648. Current best value is -0.8828669994139955 with parameters: {'num_leaves': 498, 'max_depth': 1259, 'subsample_for_bin': 2883343, 'min_child_samples': 47979, 'reg_alpha': 0.6309799889159281, 'colsample_bytree': 0.00010962245844223844, 'learning_rate': 1.3862828984998123}.\n",
      "[I 2019-09-06 19:09:02,899] Finished trial#6 resulted in value: -0.7825635820973524. Current best value is -0.8828669994139955 with parameters: {'num_leaves': 498, 'max_depth': 1259, 'subsample_for_bin': 2883343, 'min_child_samples': 47979, 'reg_alpha': 0.6309799889159281, 'colsample_bytree': 0.00010962245844223844, 'learning_rate': 1.3862828984998123}.\n",
      "[I 2019-09-06 19:09:33,598] Finished trial#7 resulted in value: -0.4253236717214403. Current best value is -0.8828669994139955 with parameters: {'num_leaves': 498, 'max_depth': 1259, 'subsample_for_bin': 2883343, 'min_child_samples': 47979, 'reg_alpha': 0.6309799889159281, 'colsample_bytree': 0.00010962245844223844, 'learning_rate': 1.3862828984998123}.\n",
      "[I 2019-09-06 19:12:12,434] Finished trial#8 resulted in value: -0.7836593679051501. Current best value is -0.8828669994139955 with parameters: {'num_leaves': 498, 'max_depth': 1259, 'subsample_for_bin': 2883343, 'min_child_samples': 47979, 'reg_alpha': 0.6309799889159281, 'colsample_bytree': 0.00010962245844223844, 'learning_rate': 1.3862828984998123}.\n",
      "[I 2019-09-06 19:12:58,429] Finished trial#9 resulted in value: -0.8023855343188938. Current best value is -0.8828669994139955 with parameters: {'num_leaves': 498, 'max_depth': 1259, 'subsample_for_bin': 2883343, 'min_child_samples': 47979, 'reg_alpha': 0.6309799889159281, 'colsample_bytree': 0.00010962245844223844, 'learning_rate': 1.3862828984998123}.\n",
      "[I 2019-09-06 19:13:34,011] Finished trial#10 resulted in value: -0.7652813408793103. Current best value is -0.8828669994139955 with parameters: {'num_leaves': 498, 'max_depth': 1259, 'subsample_for_bin': 2883343, 'min_child_samples': 47979, 'reg_alpha': 0.6309799889159281, 'colsample_bytree': 0.00010962245844223844, 'learning_rate': 1.3862828984998123}.\n",
      "[I 2019-09-06 19:17:24,518] Finished trial#11 resulted in value: -0.9084471808411675. Current best value is -0.9084471808411675 with parameters: {'num_leaves': 416, 'max_depth': 1472, 'subsample_for_bin': 1018296, 'min_child_samples': 32179, 'reg_alpha': 2.5506113780141123e-07, 'colsample_bytree': 0.04839303371823401, 'learning_rate': 0.08088630710256105}.\n",
      "[I 2019-09-06 19:21:15,120] Finished trial#12 resulted in value: -0.8972648845710376. Current best value is -0.9084471808411675 with parameters: {'num_leaves': 416, 'max_depth': 1472, 'subsample_for_bin': 1018296, 'min_child_samples': 32179, 'reg_alpha': 2.5506113780141123e-07, 'colsample_bytree': 0.04839303371823401, 'learning_rate': 0.08088630710256105}.\n",
      "[I 2019-09-06 19:25:11,485] Finished trial#13 resulted in value: -0.8954908811625267. Current best value is -0.9084471808411675 with parameters: {'num_leaves': 416, 'max_depth': 1472, 'subsample_for_bin': 1018296, 'min_child_samples': 32179, 'reg_alpha': 2.5506113780141123e-07, 'colsample_bytree': 0.04839303371823401, 'learning_rate': 0.08088630710256105}.\n",
      "[I 2019-09-06 19:26:05,889] Finished trial#14 resulted in value: -0.8883933802238051. Current best value is -0.9084471808411675 with parameters: {'num_leaves': 416, 'max_depth': 1472, 'subsample_for_bin': 1018296, 'min_child_samples': 32179, 'reg_alpha': 2.5506113780141123e-07, 'colsample_bytree': 0.04839303371823401, 'learning_rate': 0.08088630710256105}.\n",
      "[I 2019-09-06 19:32:00,280] Finished trial#15 resulted in value: -0.9107890470829746. Current best value is -0.9107890470829746 with parameters: {'num_leaves': 1500, 'max_depth': 849, 'subsample_for_bin': 754409, 'min_child_samples': 38393, 'reg_alpha': 2.755635614848458e-07, 'colsample_bytree': 0.2685644175409898, 'learning_rate': 0.05536773994840296}.\n",
      "[I 2019-09-06 19:47:04,570] Finished trial#16 resulted in value: -0.9563322847235526. Current best value is -0.9563322847235526 with parameters: {'num_leaves': 1499, 'max_depth': 763, 'subsample_for_bin': 528261, 'min_child_samples': 19159, 'reg_alpha': 2.7619228387137966e-06, 'colsample_bytree': 0.8840719353100626, 'learning_rate': 0.1643925815426876}.\n",
      "[I 2019-09-06 19:50:06,326] Finished trial#17 resulted in value: -0.8796734689181784. Current best value is -0.9563322847235526 with parameters: {'num_leaves': 1499, 'max_depth': 763, 'subsample_for_bin': 528261, 'min_child_samples': 19159, 'reg_alpha': 2.7619228387137966e-06, 'colsample_bytree': 0.8840719353100626, 'learning_rate': 0.1643925815426876}.\n",
      "[I 2019-09-06 19:51:28,246] Finished trial#18 resulted in value: -0.9283180437049643. Current best value is -0.9563322847235526 with parameters: {'num_leaves': 1499, 'max_depth': 763, 'subsample_for_bin': 528261, 'min_child_samples': 19159, 'reg_alpha': 2.7619228387137966e-06, 'colsample_bytree': 0.8840719353100626, 'learning_rate': 0.1643925815426876}.\n",
      "[I 2019-09-06 19:52:35,664] Finished trial#19 resulted in value: -0.9141723377325054. Current best value is -0.9563322847235526 with parameters: {'num_leaves': 1499, 'max_depth': 763, 'subsample_for_bin': 528261, 'min_child_samples': 19159, 'reg_alpha': 2.7619228387137966e-06, 'colsample_bytree': 0.8840719353100626, 'learning_rate': 0.1643925815426876}.\n",
      "[I 2019-09-06 19:54:10,033] Finished trial#20 resulted in value: -0.47175992418961954. Current best value is -0.9563322847235526 with parameters: {'num_leaves': 1499, 'max_depth': 763, 'subsample_for_bin': 528261, 'min_child_samples': 19159, 'reg_alpha': 2.7619228387137966e-06, 'colsample_bytree': 0.8840719353100626, 'learning_rate': 0.1643925815426876}.\n",
      "[I 2019-09-06 19:55:02,458] Finished trial#21 resulted in value: -0.8414173905866164. Current best value is -0.9563322847235526 with parameters: {'num_leaves': 1499, 'max_depth': 763, 'subsample_for_bin': 528261, 'min_child_samples': 19159, 'reg_alpha': 2.7619228387137966e-06, 'colsample_bytree': 0.8840719353100626, 'learning_rate': 0.1643925815426876}.\n",
      "[I 2019-09-06 19:56:20,082] Finished trial#22 resulted in value: -0.9116045337501075. Current best value is -0.9563322847235526 with parameters: {'num_leaves': 1499, 'max_depth': 763, 'subsample_for_bin': 528261, 'min_child_samples': 19159, 'reg_alpha': 2.7619228387137966e-06, 'colsample_bytree': 0.8840719353100626, 'learning_rate': 0.1643925815426876}.\n"
     ]
    },
    {
     "name": "stderr",
     "output_type": "stream",
     "text": [
      "[I 2019-09-06 19:57:11,485] Finished trial#23 resulted in value: -0.9075310511838979. Current best value is -0.9563322847235526 with parameters: {'num_leaves': 1499, 'max_depth': 763, 'subsample_for_bin': 528261, 'min_child_samples': 19159, 'reg_alpha': 2.7619228387137966e-06, 'colsample_bytree': 0.8840719353100626, 'learning_rate': 0.1643925815426876}.\n",
      "[I 2019-09-06 19:58:20,683] Finished trial#24 resulted in value: -0.8468890640832109. Current best value is -0.9563322847235526 with parameters: {'num_leaves': 1499, 'max_depth': 763, 'subsample_for_bin': 528261, 'min_child_samples': 19159, 'reg_alpha': 2.7619228387137966e-06, 'colsample_bytree': 0.8840719353100626, 'learning_rate': 0.1643925815426876}.\n",
      "[I 2019-09-06 19:58:43,438] Finished trial#25 resulted in value: -0.6310749025162395. Current best value is -0.9563322847235526 with parameters: {'num_leaves': 1499, 'max_depth': 763, 'subsample_for_bin': 528261, 'min_child_samples': 19159, 'reg_alpha': 2.7619228387137966e-06, 'colsample_bytree': 0.8840719353100626, 'learning_rate': 0.1643925815426876}.\n",
      "[I 2019-09-06 20:03:25,450] Finished trial#26 resulted in value: -0.9494344467762563. Current best value is -0.9563322847235526 with parameters: {'num_leaves': 1499, 'max_depth': 763, 'subsample_for_bin': 528261, 'min_child_samples': 19159, 'reg_alpha': 2.7619228387137966e-06, 'colsample_bytree': 0.8840719353100626, 'learning_rate': 0.1643925815426876}.\n",
      "[I 2019-09-06 20:04:01,359] Finished trial#27 resulted in value: -0.47160769807154485. Current best value is -0.9563322847235526 with parameters: {'num_leaves': 1499, 'max_depth': 763, 'subsample_for_bin': 528261, 'min_child_samples': 19159, 'reg_alpha': 2.7619228387137966e-06, 'colsample_bytree': 0.8840719353100626, 'learning_rate': 0.1643925815426876}.\n",
      "[I 2019-09-06 20:06:17,936] Finished trial#28 resulted in value: -0.582902001419243. Current best value is -0.9563322847235526 with parameters: {'num_leaves': 1499, 'max_depth': 763, 'subsample_for_bin': 528261, 'min_child_samples': 19159, 'reg_alpha': 2.7619228387137966e-06, 'colsample_bytree': 0.8840719353100626, 'learning_rate': 0.1643925815426876}.\n",
      "[I 2019-09-06 20:23:31,238] Finished trial#29 resulted in value: -0.9588115297483685. Current best value is -0.9588115297483685 with parameters: {'num_leaves': 1052, 'max_depth': 386, 'subsample_for_bin': 1693320, 'min_child_samples': 16077, 'reg_alpha': 1.8576805310050103e-08, 'colsample_bytree': 0.9498826476547841, 'learning_rate': 0.1464316642830422}.\n",
      "[I 2019-09-06 20:27:49,238] Finished trial#30 resulted in value: -0.9085232343634636. Current best value is -0.9588115297483685 with parameters: {'num_leaves': 1052, 'max_depth': 386, 'subsample_for_bin': 1693320, 'min_child_samples': 16077, 'reg_alpha': 1.8576805310050103e-08, 'colsample_bytree': 0.9498826476547841, 'learning_rate': 0.1464316642830422}.\n",
      "[I 2019-09-06 20:28:44,056] Finished trial#31 resulted in value: -0.9280662266068584. Current best value is -0.9588115297483685 with parameters: {'num_leaves': 1052, 'max_depth': 386, 'subsample_for_bin': 1693320, 'min_child_samples': 16077, 'reg_alpha': 1.8576805310050103e-08, 'colsample_bytree': 0.9498826476547841, 'learning_rate': 0.1464316642830422}.\n",
      "[I 2019-09-06 20:49:53,218] Finished trial#32 resulted in value: -0.9671049757325849. Current best value is -0.9671049757325849 with parameters: {'num_leaves': 1410, 'max_depth': 1089, 'subsample_for_bin': 1376296, 'min_child_samples': 10138, 'reg_alpha': 1.7375558617854e-06, 'colsample_bytree': 0.9542886516228563, 'learning_rate': 0.14284669056474186}.\n",
      "[I 2019-09-06 21:08:07,919] Finished trial#33 resulted in value: -0.9607117841542766. Current best value is -0.9671049757325849 with parameters: {'num_leaves': 1410, 'max_depth': 1089, 'subsample_for_bin': 1376296, 'min_child_samples': 10138, 'reg_alpha': 1.7375558617854e-06, 'colsample_bytree': 0.9542886516228563, 'learning_rate': 0.14284669056474186}.\n",
      "[I 2019-09-06 21:29:04,363] Finished trial#34 resulted in value: -0.9633126945006754. Current best value is -0.9671049757325849 with parameters: {'num_leaves': 1410, 'max_depth': 1089, 'subsample_for_bin': 1376296, 'min_child_samples': 10138, 'reg_alpha': 1.7375558617854e-06, 'colsample_bytree': 0.9542886516228563, 'learning_rate': 0.14284669056474186}.\n",
      "[I 2019-09-06 21:33:56,473] Finished trial#35 resulted in value: -0.9355656956096242. Current best value is -0.9671049757325849 with parameters: {'num_leaves': 1410, 'max_depth': 1089, 'subsample_for_bin': 1376296, 'min_child_samples': 10138, 'reg_alpha': 1.7375558617854e-06, 'colsample_bytree': 0.9542886516228563, 'learning_rate': 0.14284669056474186}.\n",
      "[I 2019-09-06 21:54:16,974] Finished trial#36 resulted in value: -0.9268562022046655. Current best value is -0.9671049757325849 with parameters: {'num_leaves': 1410, 'max_depth': 1089, 'subsample_for_bin': 1376296, 'min_child_samples': 10138, 'reg_alpha': 1.7375558617854e-06, 'colsample_bytree': 0.9542886516228563, 'learning_rate': 0.14284669056474186}.\n",
      "[I 2019-09-06 22:06:20,649] Finished trial#37 resulted in value: -0.9592111661011133. Current best value is -0.9671049757325849 with parameters: {'num_leaves': 1410, 'max_depth': 1089, 'subsample_for_bin': 1376296, 'min_child_samples': 10138, 'reg_alpha': 1.7375558617854e-06, 'colsample_bytree': 0.9542886516228563, 'learning_rate': 0.14284669056474186}.\n",
      "[I 2019-09-06 22:08:13,005] Finished trial#38 resulted in value: -0.9263762050915282. Current best value is -0.9671049757325849 with parameters: {'num_leaves': 1410, 'max_depth': 1089, 'subsample_for_bin': 1376296, 'min_child_samples': 10138, 'reg_alpha': 1.7375558617854e-06, 'colsample_bytree': 0.9542886516228563, 'learning_rate': 0.14284669056474186}.\n",
      "[I 2019-09-06 22:09:00,157] Finished trial#39 resulted in value: -0.8044706472743288. Current best value is -0.9671049757325849 with parameters: {'num_leaves': 1410, 'max_depth': 1089, 'subsample_for_bin': 1376296, 'min_child_samples': 10138, 'reg_alpha': 1.7375558617854e-06, 'colsample_bytree': 0.9542886516228563, 'learning_rate': 0.14284669056474186}.\n",
      "[I 2019-09-06 22:10:03,466] Finished trial#40 resulted in value: -0.5667327353418685. Current best value is -0.9671049757325849 with parameters: {'num_leaves': 1410, 'max_depth': 1089, 'subsample_for_bin': 1376296, 'min_child_samples': 10138, 'reg_alpha': 1.7375558617854e-06, 'colsample_bytree': 0.9542886516228563, 'learning_rate': 0.14284669056474186}.\n",
      "[I 2019-09-06 22:18:07,958] Finished trial#41 resulted in value: -0.9639457897013693. Current best value is -0.9671049757325849 with parameters: {'num_leaves': 1410, 'max_depth': 1089, 'subsample_for_bin': 1376296, 'min_child_samples': 10138, 'reg_alpha': 1.7375558617854e-06, 'colsample_bytree': 0.9542886516228563, 'learning_rate': 0.14284669056474186}.\n",
      "[I 2019-09-06 22:21:15,680] Finished trial#42 resulted in value: -0.8303468196969099. Current best value is -0.9671049757325849 with parameters: {'num_leaves': 1410, 'max_depth': 1089, 'subsample_for_bin': 1376296, 'min_child_samples': 10138, 'reg_alpha': 1.7375558617854e-06, 'colsample_bytree': 0.9542886516228563, 'learning_rate': 0.14284669056474186}.\n",
      "[I 2019-09-06 22:46:29,207] Finished trial#43 resulted in value: -0.9750170068588928. Current best value is -0.9750170068588928 with parameters: {'num_leaves': 854, 'max_depth': 1373, 'subsample_for_bin': 1793070, 'min_child_samples': 99, 'reg_alpha': 6.553205857697253e-10, 'colsample_bytree': 0.187934424563022, 'learning_rate': 0.06975277636212471}.\n",
      "[I 2019-09-06 22:47:26,306] Finished trial#44 resulted in value: -0.5683878924587755. Current best value is -0.9750170068588928 with parameters: {'num_leaves': 854, 'max_depth': 1373, 'subsample_for_bin': 1793070, 'min_child_samples': 99, 'reg_alpha': 6.553205857697253e-10, 'colsample_bytree': 0.187934424563022, 'learning_rate': 0.06975277636212471}.\n",
      "[I 2019-09-06 22:54:20,929] Finished trial#45 resulted in value: -0.9575768207094231. Current best value is -0.9750170068588928 with parameters: {'num_leaves': 854, 'max_depth': 1373, 'subsample_for_bin': 1793070, 'min_child_samples': 99, 'reg_alpha': 6.553205857697253e-10, 'colsample_bytree': 0.187934424563022, 'learning_rate': 0.06975277636212471}.\n"
     ]
    },
    {
     "name": "stderr",
     "output_type": "stream",
     "text": [
      "[I 2019-09-06 22:55:01,506] Finished trial#46 resulted in value: -0.8447702258791796. Current best value is -0.9750170068588928 with parameters: {'num_leaves': 854, 'max_depth': 1373, 'subsample_for_bin': 1793070, 'min_child_samples': 99, 'reg_alpha': 6.553205857697253e-10, 'colsample_bytree': 0.187934424563022, 'learning_rate': 0.06975277636212471}.\n",
      "[I 2019-09-06 23:25:24,615] Finished trial#47 resulted in value: -0.973900000889306. Current best value is -0.9750170068588928 with parameters: {'num_leaves': 854, 'max_depth': 1373, 'subsample_for_bin': 1793070, 'min_child_samples': 99, 'reg_alpha': 6.553205857697253e-10, 'colsample_bytree': 0.187934424563022, 'learning_rate': 0.06975277636212471}.\n",
      "[I 2019-09-06 23:26:13,517] Finished trial#48 resulted in value: -0.5348944234121003. Current best value is -0.9750170068588928 with parameters: {'num_leaves': 854, 'max_depth': 1373, 'subsample_for_bin': 1793070, 'min_child_samples': 99, 'reg_alpha': 6.553205857697253e-10, 'colsample_bytree': 0.187934424563022, 'learning_rate': 0.06975277636212471}.\n",
      "[I 2019-09-06 23:27:21,083] Finished trial#49 resulted in value: -0.9204087385665806. Current best value is -0.9750170068588928 with parameters: {'num_leaves': 854, 'max_depth': 1373, 'subsample_for_bin': 1793070, 'min_child_samples': 99, 'reg_alpha': 6.553205857697253e-10, 'colsample_bytree': 0.187934424563022, 'learning_rate': 0.06975277636212471}.\n",
      "[I 2019-09-06 23:41:07,642] Finished trial#50 resulted in value: -0.9668560227267491. Current best value is -0.9750170068588928 with parameters: {'num_leaves': 854, 'max_depth': 1373, 'subsample_for_bin': 1793070, 'min_child_samples': 99, 'reg_alpha': 6.553205857697253e-10, 'colsample_bytree': 0.187934424563022, 'learning_rate': 0.06975277636212471}.\n",
      "[I 2019-09-06 23:41:50,224] Finished trial#51 resulted in value: -0.544115630182981. Current best value is -0.9750170068588928 with parameters: {'num_leaves': 854, 'max_depth': 1373, 'subsample_for_bin': 1793070, 'min_child_samples': 99, 'reg_alpha': 6.553205857697253e-10, 'colsample_bytree': 0.187934424563022, 'learning_rate': 0.06975277636212471}.\n",
      "[I 2019-09-07 00:03:16,220] Finished trial#52 resulted in value: -0.9703190019666594. Current best value is -0.9750170068588928 with parameters: {'num_leaves': 854, 'max_depth': 1373, 'subsample_for_bin': 1793070, 'min_child_samples': 99, 'reg_alpha': 6.553205857697253e-10, 'colsample_bytree': 0.187934424563022, 'learning_rate': 0.06975277636212471}.\n",
      "[I 2019-09-07 00:24:34,449] Finished trial#53 resulted in value: -0.9716297266030359. Current best value is -0.9750170068588928 with parameters: {'num_leaves': 854, 'max_depth': 1373, 'subsample_for_bin': 1793070, 'min_child_samples': 99, 'reg_alpha': 6.553205857697253e-10, 'colsample_bytree': 0.187934424563022, 'learning_rate': 0.06975277636212471}.\n",
      "[I 2019-09-07 00:25:53,094] Finished trial#54 resulted in value: -0.48198057535988714. Current best value is -0.9750170068588928 with parameters: {'num_leaves': 854, 'max_depth': 1373, 'subsample_for_bin': 1793070, 'min_child_samples': 99, 'reg_alpha': 6.553205857697253e-10, 'colsample_bytree': 0.187934424563022, 'learning_rate': 0.06975277636212471}.\n",
      "[I 2019-09-07 00:28:08,342] Finished trial#55 resulted in value: -0.5616605273067694. Current best value is -0.9750170068588928 with parameters: {'num_leaves': 854, 'max_depth': 1373, 'subsample_for_bin': 1793070, 'min_child_samples': 99, 'reg_alpha': 6.553205857697253e-10, 'colsample_bytree': 0.187934424563022, 'learning_rate': 0.06975277636212471}.\n",
      "[I 2019-09-07 00:40:23,502] Finished trial#56 resulted in value: -0.9712865463270275. Current best value is -0.9750170068588928 with parameters: {'num_leaves': 854, 'max_depth': 1373, 'subsample_for_bin': 1793070, 'min_child_samples': 99, 'reg_alpha': 6.553205857697253e-10, 'colsample_bytree': 0.187934424563022, 'learning_rate': 0.06975277636212471}.\n",
      "[I 2019-09-07 00:54:40,363] Finished trial#57 resulted in value: -0.9716126739340429. Current best value is -0.9750170068588928 with parameters: {'num_leaves': 854, 'max_depth': 1373, 'subsample_for_bin': 1793070, 'min_child_samples': 99, 'reg_alpha': 6.553205857697253e-10, 'colsample_bytree': 0.187934424563022, 'learning_rate': 0.06975277636212471}.\n",
      "[I 2019-09-07 01:07:04,330] Finished trial#58 resulted in value: -0.957474413383267. Current best value is -0.9750170068588928 with parameters: {'num_leaves': 854, 'max_depth': 1373, 'subsample_for_bin': 1793070, 'min_child_samples': 99, 'reg_alpha': 6.553205857697253e-10, 'colsample_bytree': 0.187934424563022, 'learning_rate': 0.06975277636212471}.\n",
      "[I 2019-09-07 01:25:07,795] Finished trial#59 resulted in value: -0.9704886706035392. Current best value is -0.9750170068588928 with parameters: {'num_leaves': 854, 'max_depth': 1373, 'subsample_for_bin': 1793070, 'min_child_samples': 99, 'reg_alpha': 6.553205857697253e-10, 'colsample_bytree': 0.187934424563022, 'learning_rate': 0.06975277636212471}.\n",
      "[I 2019-09-07 01:42:12,674] Finished trial#60 resulted in value: -0.9705425975120467. Current best value is -0.9750170068588928 with parameters: {'num_leaves': 854, 'max_depth': 1373, 'subsample_for_bin': 1793070, 'min_child_samples': 99, 'reg_alpha': 6.553205857697253e-10, 'colsample_bytree': 0.187934424563022, 'learning_rate': 0.06975277636212471}.\n",
      "[I 2019-09-07 02:00:41,039] Finished trial#61 resulted in value: -0.9662036978959171. Current best value is -0.9750170068588928 with parameters: {'num_leaves': 854, 'max_depth': 1373, 'subsample_for_bin': 1793070, 'min_child_samples': 99, 'reg_alpha': 6.553205857697253e-10, 'colsample_bytree': 0.187934424563022, 'learning_rate': 0.06975277636212471}.\n",
      "[I 2019-09-07 02:16:14,274] Finished trial#62 resulted in value: -0.9718703653729549. Current best value is -0.9750170068588928 with parameters: {'num_leaves': 854, 'max_depth': 1373, 'subsample_for_bin': 1793070, 'min_child_samples': 99, 'reg_alpha': 6.553205857697253e-10, 'colsample_bytree': 0.187934424563022, 'learning_rate': 0.06975277636212471}.\n",
      "[I 2019-09-07 02:25:37,248] Finished trial#63 resulted in value: -0.9682776647746091. Current best value is -0.9750170068588928 with parameters: {'num_leaves': 854, 'max_depth': 1373, 'subsample_for_bin': 1793070, 'min_child_samples': 99, 'reg_alpha': 6.553205857697253e-10, 'colsample_bytree': 0.187934424563022, 'learning_rate': 0.06975277636212471}.\n",
      "[I 2019-09-07 02:27:08,512] Finished trial#64 resulted in value: -0.945719315657907. Current best value is -0.9750170068588928 with parameters: {'num_leaves': 854, 'max_depth': 1373, 'subsample_for_bin': 1793070, 'min_child_samples': 99, 'reg_alpha': 6.553205857697253e-10, 'colsample_bytree': 0.187934424563022, 'learning_rate': 0.06975277636212471}.\n",
      "[I 2019-09-07 02:27:46,705] Finished trial#65 resulted in value: -0.5638304315285739. Current best value is -0.9750170068588928 with parameters: {'num_leaves': 854, 'max_depth': 1373, 'subsample_for_bin': 1793070, 'min_child_samples': 99, 'reg_alpha': 6.553205857697253e-10, 'colsample_bytree': 0.187934424563022, 'learning_rate': 0.06975277636212471}.\n",
      "[I 2019-09-07 02:47:09,485] Finished trial#66 resulted in value: -0.9733053561810397. Current best value is -0.9750170068588928 with parameters: {'num_leaves': 854, 'max_depth': 1373, 'subsample_for_bin': 1793070, 'min_child_samples': 99, 'reg_alpha': 6.553205857697253e-10, 'colsample_bytree': 0.187934424563022, 'learning_rate': 0.06975277636212471}.\n",
      "[I 2019-09-07 02:49:48,892] Finished trial#67 resulted in value: -0.9481949175584782. Current best value is -0.9750170068588928 with parameters: {'num_leaves': 854, 'max_depth': 1373, 'subsample_for_bin': 1793070, 'min_child_samples': 99, 'reg_alpha': 6.553205857697253e-10, 'colsample_bytree': 0.187934424563022, 'learning_rate': 0.06975277636212471}.\n",
      "[I 2019-09-07 02:51:18,583] Finished trial#68 resulted in value: -0.9118722161755379. Current best value is -0.9750170068588928 with parameters: {'num_leaves': 854, 'max_depth': 1373, 'subsample_for_bin': 1793070, 'min_child_samples': 99, 'reg_alpha': 6.553205857697253e-10, 'colsample_bytree': 0.187934424563022, 'learning_rate': 0.06975277636212471}.\n"
     ]
    },
    {
     "name": "stderr",
     "output_type": "stream",
     "text": [
      "[I 2019-09-07 02:54:26,159] Finished trial#69 resulted in value: -0.9232238505756701. Current best value is -0.9750170068588928 with parameters: {'num_leaves': 854, 'max_depth': 1373, 'subsample_for_bin': 1793070, 'min_child_samples': 99, 'reg_alpha': 6.553205857697253e-10, 'colsample_bytree': 0.187934424563022, 'learning_rate': 0.06975277636212471}.\n",
      "[I 2019-09-07 03:09:24,300] Finished trial#70 resulted in value: -0.9695292568118152. Current best value is -0.9750170068588928 with parameters: {'num_leaves': 854, 'max_depth': 1373, 'subsample_for_bin': 1793070, 'min_child_samples': 99, 'reg_alpha': 6.553205857697253e-10, 'colsample_bytree': 0.187934424563022, 'learning_rate': 0.06975277636212471}.\n",
      "[I 2019-09-07 03:10:43,398] Finished trial#71 resulted in value: -0.9527680204906781. Current best value is -0.9750170068588928 with parameters: {'num_leaves': 854, 'max_depth': 1373, 'subsample_for_bin': 1793070, 'min_child_samples': 99, 'reg_alpha': 6.553205857697253e-10, 'colsample_bytree': 0.187934424563022, 'learning_rate': 0.06975277636212471}.\n",
      "[I 2019-09-07 03:22:02,183] Finished trial#72 resulted in value: -0.9719269186676461. Current best value is -0.9750170068588928 with parameters: {'num_leaves': 854, 'max_depth': 1373, 'subsample_for_bin': 1793070, 'min_child_samples': 99, 'reg_alpha': 6.553205857697253e-10, 'colsample_bytree': 0.187934424563022, 'learning_rate': 0.06975277636212471}.\n",
      "[I 2019-09-07 03:40:39,461] Finished trial#73 resulted in value: -0.9623246320587084. Current best value is -0.9750170068588928 with parameters: {'num_leaves': 854, 'max_depth': 1373, 'subsample_for_bin': 1793070, 'min_child_samples': 99, 'reg_alpha': 6.553205857697253e-10, 'colsample_bytree': 0.187934424563022, 'learning_rate': 0.06975277636212471}.\n",
      "[I 2019-09-07 03:43:02,047] Finished trial#74 resulted in value: -0.9515926924437094. Current best value is -0.9750170068588928 with parameters: {'num_leaves': 854, 'max_depth': 1373, 'subsample_for_bin': 1793070, 'min_child_samples': 99, 'reg_alpha': 6.553205857697253e-10, 'colsample_bytree': 0.187934424563022, 'learning_rate': 0.06975277636212471}.\n",
      "[I 2019-09-07 03:52:40,725] Finished trial#75 resulted in value: -0.9594661226266488. Current best value is -0.9750170068588928 with parameters: {'num_leaves': 854, 'max_depth': 1373, 'subsample_for_bin': 1793070, 'min_child_samples': 99, 'reg_alpha': 6.553205857697253e-10, 'colsample_bytree': 0.187934424563022, 'learning_rate': 0.06975277636212471}.\n",
      "[I 2019-09-07 03:53:15,126] Finished trial#76 resulted in value: -0.845694389268854. Current best value is -0.9750170068588928 with parameters: {'num_leaves': 854, 'max_depth': 1373, 'subsample_for_bin': 1793070, 'min_child_samples': 99, 'reg_alpha': 6.553205857697253e-10, 'colsample_bytree': 0.187934424563022, 'learning_rate': 0.06975277636212471}.\n",
      "[I 2019-09-07 03:54:02,547] Finished trial#77 resulted in value: -0.5288125500027703. Current best value is -0.9750170068588928 with parameters: {'num_leaves': 854, 'max_depth': 1373, 'subsample_for_bin': 1793070, 'min_child_samples': 99, 'reg_alpha': 6.553205857697253e-10, 'colsample_bytree': 0.187934424563022, 'learning_rate': 0.06975277636212471}.\n"
     ]
    }
   ],
   "source": [
    "if SEARCH_PARAMS:\n",
    "    if os.path.isfile('study.pkl'):\n",
    "        study = joblib.load('study.pkl')\n",
    "    else:\n",
    "        study = optuna.create_study()\n",
    "\n",
    "    study.optimize(objective, timeout=60*60*12)\n",
    "    joblib.dump(study, 'study.pkl')\n",
    "    best_params = study.best_params\n",
    "    \n",
    "else:\n",
    "    \n",
    "    best_params = {'num_leaves': 302,\n",
    "                 'max_depth': 157,\n",
    "                 'subsample_for_bin': 290858,\n",
    "                 'min_child_samples': 79,\n",
    "                 'reg_alpha': 0.9919573524807885,\n",
    "                 'colsample_bytree': 0.5653288564015742,\n",
    "                 'learning_rate': 0.028565794309535042}"
   ]
  },
  {
   "cell_type": "code",
   "execution_count": null,
   "metadata": {
    "ExecuteTime": {
     "start_time": "2019-09-06T17:00:34.894Z"
    },
    "scrolled": true
   },
   "outputs": [],
   "source": [
    "model.set_params(**best_params)\n",
    "\n",
    "cross_val_score_auc(model,\n",
    "                    X_train,\n",
    "                    y_train,\n",
    "                    n_fold=N_FOLD,\n",
    "                    stratify=True,\n",
    "                    shuffle=True,\n",
    "                    random_state=42,\n",
    "                    predict=True,\n",
    "                    X_test=X_test,\n",
    "                    submission=sample_submission)"
   ]
  },
  {
   "cell_type": "code",
   "execution_count": 19,
   "metadata": {
    "ExecuteTime": {
     "end_time": "2019-09-06T12:58:48.592039Z",
     "start_time": "2019-09-06T12:58:48.587765Z"
    }
   },
   "outputs": [],
   "source": [
    "# ROC accuracy: 0.9752166854560683, Train: 0.9999880028138726\n",
    "# ROC accuracy: 0.978549489713329, Train: 0.9999846402519508\n",
    "# ROC accuracy: 0.9775330875670358, Train: 0.9999857411401932\n",
    "# ROC accuracy: 0.9779064734264544, Train: 0.9999820012259492\n",
    "# ROC accuracy: 0.9759618973923397, Train: 0.9999879506811296\n",
    "# ROC accuracy: 0.9760439850075724, Train: 0.999982252164232\n",
    "# ROC accuracy: 0.9777317260455965, Train: 0.9999817054370517\n",
    "# ROC accuracy: 0.9770691545023485, Train: 0.9999847023569826\n",
    "\n",
    "\n",
    "# 0.9770015623888431"
   ]
  },
  {
   "cell_type": "code",
   "execution_count": null,
   "metadata": {},
   "outputs": [],
   "source": []
  }
 ],
 "metadata": {
  "jupytext": {
   "formats": "ipynb,py:percent"
  },
  "kernelspec": {
   "display_name": "Python 3",
   "language": "python",
   "name": "python3"
  },
  "language_info": {
   "codemirror_mode": {
    "name": "ipython",
    "version": 3
   },
   "file_extension": ".py",
   "mimetype": "text/x-python",
   "name": "python",
   "nbconvert_exporter": "python",
   "pygments_lexer": "ipython3",
   "version": "3.6.8"
  }
 },
 "nbformat": 4,
 "nbformat_minor": 2
}
