{
 "cells": [
  {
   "cell_type": "code",
   "execution_count": 1,
   "metadata": {
    "ExecuteTime": {
     "end_time": "2019-09-02T07:36:27.880094Z",
     "start_time": "2019-09-02T07:36:25.561629Z"
    }
   },
   "outputs": [
    {
     "name": "stderr",
     "output_type": "stream",
     "text": [
      "/Users/piotrgabrys/.pyenv/versions/miniconda3-4.3.30/lib/python3.6/site-packages/lightgbm/__init__.py:46: UserWarning: Starting from version 2.2.1, the library file in distribution wheels for macOS is built by the Apple Clang (Xcode_8.3.3) compiler.\n",
      "This means that in case of installing LightGBM from PyPI via the ``pip install lightgbm`` command, you don't need to install the gcc compiler anymore.\n",
      "Instead of that, you need to install the OpenMP library, which is required for running LightGBM on the system with the Apple Clang compiler.\n",
      "You can install the OpenMP library by the following command: ``brew install libomp``.\n",
      "  \"You can install the OpenMP library by the following command: ``brew install libomp``.\", UserWarning)\n"
     ]
    }
   ],
   "source": [
    "import os\n",
    "import gc\n",
    "import numpy as np\n",
    "import pandas as pd\n",
    "import joblib\n",
    "from datetime import datetime\n",
    "\n",
    "from lightgbm import LGBMClassifier\n",
    "import optuna\n",
    "\n",
    "from codes import utils\n",
    "from codes import fe_browser\n",
    "from codes import fe_emails\n",
    "from codes import fe_cards\n",
    "from codes import fe_date\n",
    "from codes import fe_relatives\n",
    "from codes import fe_categorical\n",
    "from codes import prepro\n",
    "from codes import fe_users"
   ]
  },
  {
   "cell_type": "code",
   "execution_count": 2,
   "metadata": {
    "ExecuteTime": {
     "end_time": "2019-09-02T07:36:27.884534Z",
     "start_time": "2019-09-02T07:36:27.881873Z"
    },
    "lines_to_next_cell": 2
   },
   "outputs": [],
   "source": [
    "DATA_PATH = '../input/'\n",
    "SEARCH_PARAMS = False\n",
    "N_FOLD = 8"
   ]
  },
  {
   "cell_type": "code",
   "execution_count": 3,
   "metadata": {
    "ExecuteTime": {
     "end_time": "2019-09-02T07:36:38.103608Z",
     "start_time": "2019-09-02T07:36:27.887633Z"
    },
    "_cell_guid": "79c7e3d0-c299-4dcb-8224-4455121ee9b0",
    "_uuid": "d629ff2d2480ee46fbb7e2d37f6b5fab8052498a",
    "lines_to_next_cell": 2
   },
   "outputs": [],
   "source": [
    "train, test, sample_submission = utils.import_data(DATA_PATH)"
   ]
  },
  {
   "cell_type": "markdown",
   "metadata": {},
   "source": [
    "### Some Feature Engineering\n",
    "\n",
    "drop columns, count encoding, aggregation, fillna"
   ]
  },
  {
   "cell_type": "code",
   "execution_count": 4,
   "metadata": {
    "ExecuteTime": {
     "end_time": "2019-09-02T07:37:09.194346Z",
     "start_time": "2019-09-02T07:36:38.108745Z"
    }
   },
   "outputs": [
    {
     "name": "stderr",
     "output_type": "stream",
     "text": [
      "/Users/piotrgabrys/data/python3/ieee/codes/fe_users.py:17: FutureWarning: Sorting because non-concatenation axis is not aligned. A future version\n",
      "of pandas will change to not sort by default.\n",
      "\n",
      "To accept the future behavior, pass 'sort=False'.\n",
      "\n",
      "To retain the current behavior and silence the warning, pass 'sort=True'.\n",
      "\n",
      "  all_data = pd.concat([train, test])\n"
     ]
    }
   ],
   "source": [
    "train, test = fe_users.users_stats(train, test)"
   ]
  },
  {
   "cell_type": "code",
   "execution_count": 5,
   "metadata": {
    "ExecuteTime": {
     "end_time": "2019-09-02T07:37:12.225503Z",
     "start_time": "2019-09-02T07:37:09.196458Z"
    }
   },
   "outputs": [
    {
     "name": "stdout",
     "output_type": "stream",
     "text": [
      "50 features are going to be dropped for being useless\n"
     ]
    }
   ],
   "source": [
    "train, test = utils.drop_columns(train, test)"
   ]
  },
  {
   "cell_type": "code",
   "execution_count": 6,
   "metadata": {
    "ExecuteTime": {
     "end_time": "2019-09-02T07:37:12.955723Z",
     "start_time": "2019-09-02T07:37:12.227664Z"
    }
   },
   "outputs": [],
   "source": [
    "train, test = fe_browser.latest(train, test)"
   ]
  },
  {
   "cell_type": "code",
   "execution_count": 7,
   "metadata": {
    "ExecuteTime": {
     "end_time": "2019-09-02T07:37:43.029823Z",
     "start_time": "2019-09-02T07:37:12.957988Z"
    }
   },
   "outputs": [],
   "source": [
    "train, test = fe_emails.proton(train, test)\n",
    "\n",
    "train['nulls1'] = train.isna().sum(axis=1)\n",
    "test['nulls1'] = test.isna().sum(axis=1)\n",
    "\n",
    "train, test = fe_emails.mappings(train, test)\n",
    "train, test = fe_emails.labeling(train, test)"
   ]
  },
  {
   "cell_type": "code",
   "execution_count": 8,
   "metadata": {
    "ExecuteTime": {
     "end_time": "2019-09-02T07:37:43.559948Z",
     "start_time": "2019-09-02T07:37:43.033207Z"
    }
   },
   "outputs": [],
   "source": [
    "train, test = fe_cards.stats(train, test)"
   ]
  },
  {
   "cell_type": "code",
   "execution_count": 9,
   "metadata": {
    "ExecuteTime": {
     "end_time": "2019-09-02T07:37:52.904918Z",
     "start_time": "2019-09-02T07:37:43.561852Z"
    }
   },
   "outputs": [],
   "source": [
    "train, test = fe_relatives.divisions(train, test)"
   ]
  },
  {
   "cell_type": "code",
   "execution_count": 10,
   "metadata": {
    "ExecuteTime": {
     "end_time": "2019-09-02T07:37:52.978530Z",
     "start_time": "2019-09-02T07:37:52.906665Z"
    },
    "lines_to_next_cell": 2
   },
   "outputs": [],
   "source": [
    "train, test = fe_date.dates(train, test)"
   ]
  },
  {
   "cell_type": "code",
   "execution_count": 11,
   "metadata": {
    "ExecuteTime": {
     "end_time": "2019-09-02T07:38:14.412609Z",
     "start_time": "2019-09-02T07:37:52.980218Z"
    },
    "lines_to_next_cell": 2
   },
   "outputs": [],
   "source": [
    "train, test = fe_categorical.pairs(train, test)\n",
    "train, test = fe_categorical.wtf(train, test)"
   ]
  },
  {
   "cell_type": "code",
   "execution_count": 12,
   "metadata": {
    "ExecuteTime": {
     "end_time": "2019-09-02T07:38:23.462214Z",
     "start_time": "2019-09-02T07:38:14.414462Z"
    }
   },
   "outputs": [],
   "source": [
    "y_train = train['isFraud'].copy()\n",
    "\n",
    "\n",
    "X_train = train.drop('isFraud', axis=1)\n",
    "X_test = test.copy()\n",
    "\n",
    "del train, test\n",
    "\n",
    "#fill in mean for floats\n",
    "X_train, X_test = prepro.prepro(X_train, X_test)"
   ]
  },
  {
   "cell_type": "markdown",
   "metadata": {},
   "source": [
    "### Model and training"
   ]
  },
  {
   "cell_type": "code",
   "execution_count": 13,
   "metadata": {
    "ExecuteTime": {
     "end_time": "2019-09-02T07:38:23.469572Z",
     "start_time": "2019-09-02T07:38:23.463646Z"
    }
   },
   "outputs": [],
   "source": [
    "submission = sample_submission.copy()\n",
    "submission['isFraud'] = 0"
   ]
  },
  {
   "cell_type": "code",
   "execution_count": 14,
   "metadata": {
    "ExecuteTime": {
     "end_time": "2019-09-02T07:38:23.475296Z",
     "start_time": "2019-09-02T07:38:23.471986Z"
    }
   },
   "outputs": [],
   "source": [
    "model = LGBMClassifier(metric='auc')"
   ]
  },
  {
   "cell_type": "code",
   "execution_count": 15,
   "metadata": {
    "ExecuteTime": {
     "end_time": "2019-09-02T07:38:23.484180Z",
     "start_time": "2019-09-02T07:38:23.477776Z"
    }
   },
   "outputs": [],
   "source": [
    "def objective(trial):\n",
    "    \n",
    "    joblib.dump(study, 'study.pkl')\n",
    "    \n",
    "    num_leaves = trial.suggest_int('num_leaves', 2, 500) \n",
    "    max_depth = trial.suggest_int('max_depth', 2, 300) \n",
    "    n_estimators = trial.suggest_int('n_estimators', 100, 2000) \n",
    "    subsample_for_bin = trial.suggest_int('subsample_for_bin', 100_000, 500_000) \n",
    "    min_child_samples = trial.suggest_int('min_child_samples', 20, 10000) \n",
    "    reg_alpha = trial.suggest_uniform('reg_alpha', 0.0, 2.0) \n",
    "    colsample_bytree = trial.suggest_uniform('colsample_bytree', 0.5, 1.0) \n",
    "    learning_rate = trial.suggest_loguniform('learning_rate', 1e-5, 1e-0)   \n",
    "\n",
    "    params = {\n",
    "        'num_leaves': num_leaves,\n",
    "        'max_depth': max_depth,\n",
    "        'n_estimators': n_estimators,\n",
    "        'subsample_for_bin': subsample_for_bin,\n",
    "        'min_child_samples': min_child_samples,\n",
    "        'reg_alpha': reg_alpha,\n",
    "        'colsample_bytree': colsample_bytree,\n",
    "        'learning_rate': learning_rate\n",
    "    }\n",
    "    \n",
    "    model.set_params(**params)\n",
    "\n",
    "    return - utils.cross_val_score_auc(model, X_train, y_train, n_fold=N_FOLD, shuffle=False, random_state=42)"
   ]
  },
  {
   "cell_type": "code",
   "execution_count": 16,
   "metadata": {
    "ExecuteTime": {
     "end_time": "2019-09-02T07:38:23.491037Z",
     "start_time": "2019-09-02T07:38:23.486303Z"
    }
   },
   "outputs": [],
   "source": [
    "if SEARCH_PARAMS:\n",
    "\n",
    "    if os.path.isfile('study.pkl'):\n",
    "        study = joblib.load('study.pkl')\n",
    "    else:\n",
    "        study = optuna.create_study()\n",
    "    study.optimize(objective, timeout=60*60*9)\n",
    "    \n",
    "    joblib.dump(study, 'study.pkl')\n",
    "    \n",
    "    params = study.best_params\n",
    "\n",
    "else:\n",
    "    \n",
    "    params = {'num_leaves': 302,\n",
    "             'max_depth': 157,\n",
    "             'n_estimators': 1200,\n",
    "             'subsample_for_bin': 290858,\n",
    "             'min_child_samples': 79,\n",
    "             'reg_alpha': 1.0919573524807885,\n",
    "             'colsample_bytree': 0.5653288564015742,\n",
    "             'learning_rate': 0.028565794309535042}"
   ]
  },
  {
   "cell_type": "code",
   "execution_count": null,
   "metadata": {
    "ExecuteTime": {
     "start_time": "2019-09-02T07:39:23.132Z"
    }
   },
   "outputs": [],
   "source": [
    "model = LGBMClassifier(metric='auc')\n",
    "model.set_params(**params)\n",
    "\n",
    "utils.cross_val_score_auc(model, \n",
    "                          X_train, \n",
    "                          y_train, \n",
    "                          n_fold=N_FOLD, \n",
    "                          shuffle=False, \n",
    "                          random_state=42, \n",
    "                          predict=True,\n",
    "                          X_test=X_test,\n",
    "                          submission=submission)"
   ]
  },
  {
   "cell_type": "code",
   "execution_count": null,
   "metadata": {},
   "outputs": [],
   "source": []
  }
 ],
 "metadata": {
  "jupytext": {
   "formats": "ipynb,py:percent"
  },
  "kernelspec": {
   "display_name": "Python 3",
   "language": "python",
   "name": "python3"
  },
  "language_info": {
   "codemirror_mode": {
    "name": "ipython",
    "version": 3
   },
   "file_extension": ".py",
   "mimetype": "text/x-python",
   "name": "python",
   "nbconvert_exporter": "python",
   "pygments_lexer": "ipython3",
   "version": "3.6.8"
  }
 },
 "nbformat": 4,
 "nbformat_minor": 2
}
