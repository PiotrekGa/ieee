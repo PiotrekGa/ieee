{
 "cells": [
  {
   "cell_type": "code",
   "execution_count": 1,
   "metadata": {
    "ExecuteTime": {
     "end_time": "2019-08-13T10:56:59.363985Z",
     "start_time": "2019-08-13T10:56:59.360964Z"
    }
   },
   "outputs": [],
   "source": [
    "# !rm -r ieee\n",
    "# !rm -r codes\n",
    "# !git clone https://github.com/PiotrekGa/ieee.git\n",
    "# !mv ieee/codes ."
   ]
  },
  {
   "cell_type": "code",
   "execution_count": 2,
   "metadata": {
    "ExecuteTime": {
     "end_time": "2019-08-13T10:57:04.247762Z",
     "start_time": "2019-08-13T10:56:59.366913Z"
    }
   },
   "outputs": [
    {
     "name": "stderr",
     "output_type": "stream",
     "text": [
      "/Users/piotrgabrys/.pyenv/versions/miniconda3-4.3.30/lib/python3.6/site-packages/lightgbm/__init__.py:46: UserWarning: Starting from version 2.2.1, the library file in distribution wheels for macOS is built by the Apple Clang (Xcode_8.3.3) compiler.\n",
      "This means that in case of installing LightGBM from PyPI via the ``pip install lightgbm`` command, you don't need to install the gcc compiler anymore.\n",
      "Instead of that, you need to install the OpenMP library, which is required for running LightGBM on the system with the Apple Clang compiler.\n",
      "You can install the OpenMP library by the following command: ``brew install libomp``.\n",
      "  \"You can install the OpenMP library by the following command: ``brew install libomp``.\", UserWarning)\n",
      "Using TensorFlow backend.\n",
      "WARNING: Logging before flag parsing goes to stderr.\n",
      "W0813 12:57:04.225690 4646581696 deprecation_wrapper.py:119] From /Users/piotrgabrys/.pyenv/versions/miniconda3-4.3.30/lib/python3.6/site-packages/optuna/integration/tensorflow.py:7: The name tf.train.SessionRunHook is deprecated. Please use tf.estimator.SessionRunHook instead.\n",
      "\n"
     ]
    }
   ],
   "source": [
    "import os\n",
    "import gc\n",
    "import numpy as np\n",
    "import pandas as pd\n",
    "import joblib\n",
    "\n",
    "from lightgbm import LGBMClassifier\n",
    "import optuna\n",
    "\n",
    "from sklearn.metrics import roc_auc_score\n",
    "from sklearn.model_selection import StratifiedKFold, cross_val_score\n",
    "\n",
    "from codes import utils\n",
    "from codes import fe_browser\n",
    "from codes import fe_emails\n",
    "from codes import fe_cards\n",
    "from codes import fe_date\n",
    "from codes import fe_relatives\n",
    "from codes import fe_categorical\n",
    "from codes import prepro\n",
    "from codes import fe_users"
   ]
  },
  {
   "cell_type": "code",
   "execution_count": 41,
   "metadata": {
    "ExecuteTime": {
     "end_time": "2019-08-14T05:13:50.846199Z",
     "start_time": "2019-08-14T05:13:50.836525Z"
    },
    "lines_to_next_cell": 2
   },
   "outputs": [],
   "source": [
    "DATA_PATH = '../input/'\n",
    "SEARCH_PARAMS = False"
   ]
  },
  {
   "cell_type": "code",
   "execution_count": 4,
   "metadata": {
    "ExecuteTime": {
     "end_time": "2019-08-13T10:57:11.010811Z",
     "start_time": "2019-08-13T10:57:04.256548Z"
    },
    "_cell_guid": "79c7e3d0-c299-4dcb-8224-4455121ee9b0",
    "_uuid": "d629ff2d2480ee46fbb7e2d37f6b5fab8052498a",
    "lines_to_next_cell": 2
   },
   "outputs": [],
   "source": [
    "train, test, sample_submission = utils.import_data(DATA_PATH)"
   ]
  },
  {
   "cell_type": "markdown",
   "metadata": {},
   "source": [
    "### Some Feature Engineering\n",
    "\n",
    "drop columns, count encoding, aggregation, fillna"
   ]
  },
  {
   "cell_type": "code",
   "execution_count": 5,
   "metadata": {
    "ExecuteTime": {
     "end_time": "2019-08-13T10:57:46.814354Z",
     "start_time": "2019-08-13T10:57:11.013372Z"
    }
   },
   "outputs": [
    {
     "name": "stderr",
     "output_type": "stream",
     "text": [
      "/Users/piotrgabrys/data/python3/ieee/codes/fe_users.py:17: FutureWarning: Sorting because non-concatenation axis is not aligned. A future version\n",
      "of pandas will change to not sort by default.\n",
      "\n",
      "To accept the future behavior, pass 'sort=False'.\n",
      "\n",
      "To retain the current behavior and silence the warning, pass 'sort=True'.\n",
      "\n",
      "  all_data = pd.concat([train, test])\n"
     ]
    }
   ],
   "source": [
    "train, test = fe_users.users_stats(train, test)"
   ]
  },
  {
   "cell_type": "code",
   "execution_count": 6,
   "metadata": {
    "ExecuteTime": {
     "end_time": "2019-08-13T10:57:49.821040Z",
     "start_time": "2019-08-13T10:57:46.816293Z"
    }
   },
   "outputs": [
    {
     "name": "stdout",
     "output_type": "stream",
     "text": [
      "50 features are going to be dropped for being useless\n"
     ]
    }
   ],
   "source": [
    "train, test = utils.drop_columns(train, test)"
   ]
  },
  {
   "cell_type": "code",
   "execution_count": 7,
   "metadata": {
    "ExecuteTime": {
     "end_time": "2019-08-13T10:57:50.542114Z",
     "start_time": "2019-08-13T10:57:49.824030Z"
    }
   },
   "outputs": [],
   "source": [
    "train, test = fe_browser.latest(train, test)"
   ]
  },
  {
   "cell_type": "code",
   "execution_count": 8,
   "metadata": {
    "ExecuteTime": {
     "end_time": "2019-08-13T10:58:26.634425Z",
     "start_time": "2019-08-13T10:57:50.544073Z"
    }
   },
   "outputs": [],
   "source": [
    "train, test = fe_emails.proton(train, test)\n",
    "\n",
    "train['nulls1'] = train.isna().sum(axis=1)\n",
    "test['nulls1'] = test.isna().sum(axis=1)\n",
    "\n",
    "train, test = fe_emails.mappings(train, test)\n",
    "train, test = fe_emails.labeling(train, test)"
   ]
  },
  {
   "cell_type": "code",
   "execution_count": 9,
   "metadata": {
    "ExecuteTime": {
     "end_time": "2019-08-13T10:58:27.389774Z",
     "start_time": "2019-08-13T10:58:26.636167Z"
    }
   },
   "outputs": [],
   "source": [
    "train, test = fe_cards.stats(train, test)"
   ]
  },
  {
   "cell_type": "code",
   "execution_count": 10,
   "metadata": {
    "ExecuteTime": {
     "end_time": "2019-08-13T10:58:38.607759Z",
     "start_time": "2019-08-13T10:58:27.391538Z"
    }
   },
   "outputs": [],
   "source": [
    "train, test = fe_relatives.divisions(train, test)"
   ]
  },
  {
   "cell_type": "code",
   "execution_count": 11,
   "metadata": {
    "ExecuteTime": {
     "end_time": "2019-08-13T10:58:38.686319Z",
     "start_time": "2019-08-13T10:58:38.609391Z"
    },
    "lines_to_next_cell": 2
   },
   "outputs": [],
   "source": [
    "train, test = fe_date.dates(train, test)"
   ]
  },
  {
   "cell_type": "code",
   "execution_count": 12,
   "metadata": {
    "ExecuteTime": {
     "end_time": "2019-08-13T10:59:04.151637Z",
     "start_time": "2019-08-13T10:58:38.688211Z"
    },
    "lines_to_next_cell": 2
   },
   "outputs": [],
   "source": [
    "train, test = fe_categorical.pairs(train, test)\n",
    "train, test = fe_categorical.wtf(train, test)"
   ]
  },
  {
   "cell_type": "code",
   "execution_count": 13,
   "metadata": {
    "ExecuteTime": {
     "end_time": "2019-08-13T10:59:13.736542Z",
     "start_time": "2019-08-13T10:59:04.153714Z"
    }
   },
   "outputs": [],
   "source": [
    "y_train = train['isFraud'].copy()\n",
    "\n",
    "\n",
    "X_train = train.drop('isFraud', axis=1)\n",
    "X_test = test.copy()\n",
    "\n",
    "del train, test\n",
    "\n",
    "#fill in mean for floats\n",
    "X_train, X_test = prepro.prepro(X_train, X_test)"
   ]
  },
  {
   "cell_type": "markdown",
   "metadata": {},
   "source": [
    "### Model and training"
   ]
  },
  {
   "cell_type": "code",
   "execution_count": 14,
   "metadata": {
    "ExecuteTime": {
     "end_time": "2019-08-13T10:59:13.745975Z",
     "start_time": "2019-08-13T10:59:13.738580Z"
    }
   },
   "outputs": [],
   "source": [
    "submission = sample_submission.copy()\n",
    "submission['isFraud'] = 0"
   ]
  },
  {
   "cell_type": "code",
   "execution_count": 15,
   "metadata": {
    "ExecuteTime": {
     "end_time": "2019-08-13T10:59:13.750908Z",
     "start_time": "2019-08-13T10:59:13.747803Z"
    }
   },
   "outputs": [],
   "source": [
    "model = LGBMClassifier(metric='auc')"
   ]
  },
  {
   "cell_type": "code",
   "execution_count": 29,
   "metadata": {
    "ExecuteTime": {
     "end_time": "2019-08-13T12:41:13.259055Z",
     "start_time": "2019-08-13T12:41:13.252381Z"
    }
   },
   "outputs": [],
   "source": [
    "def cross_val_score2(model, X_train, y_train, n_fold):\n",
    "    \n",
    "    folds = StratifiedKFold(n_splits=n_fold, shuffle=True)\n",
    "    \n",
    "    model_scores = []\n",
    "    for train_index, valid_index in folds.split(X_train, y_train):\n",
    "        X_train_, X_valid = X_train.iloc[train_index], X_train.iloc[valid_index]\n",
    "        y_train_, y_valid = y_train.iloc[train_index], y_train.iloc[valid_index]\n",
    "        model.fit(X_train_,y_train_)\n",
    "        del X_train_,y_train_\n",
    "        val = model.predict_proba(X_valid)[:,1]\n",
    "        del X_valid\n",
    "        model_scores.append(roc_auc_score(y_valid, val))\n",
    "        print('ROC accuracy: {}'.format(model_scores[-1]))\n",
    "        del val, y_valid\n",
    "    \n",
    "    return np.mean(model_scores)"
   ]
  },
  {
   "cell_type": "code",
   "execution_count": 33,
   "metadata": {
    "ExecuteTime": {
     "end_time": "2019-08-13T12:42:01.372419Z",
     "start_time": "2019-08-13T12:42:01.364460Z"
    }
   },
   "outputs": [],
   "source": [
    "def objective(trial):\n",
    "    \n",
    "    joblib.dump(study, 'study.pkl')\n",
    "    \n",
    "    num_leaves = trial.suggest_int('num_leaves', 300, 310) \n",
    "    max_depth = trial.suggest_int('max_depth', 150, 160) \n",
    "    n_estimators = trial.suggest_int('n_estimators', 1150, 1250) \n",
    "    subsample_for_bin = trial.suggest_int('subsample_for_bin', 285858, 295858) \n",
    "    min_child_samples = trial.suggest_int('min_child_samples', 75, 85) \n",
    "    reg_alpha = trial.suggest_uniform('reg_alpha', 1.0, 1.1) \n",
    "    colsample_bytree = trial.suggest_uniform('colsample_bytree', 0.56, 0.57) \n",
    "    learning_rate = trial.suggest_loguniform('learning_rate', 0.02, 0.03)   \n",
    "\n",
    "    params = {\n",
    "        'num_leaves': num_leaves,\n",
    "        'max_depth': max_depth,\n",
    "        'n_estimators': n_estimators,\n",
    "        'subsample_for_bin': subsample_for_bin,\n",
    "        'min_child_samples': min_child_samples,\n",
    "        'reg_alpha': reg_alpha,\n",
    "        'colsample_bytree': colsample_bytree,\n",
    "        'learning_rate': learning_rate\n",
    "    }\n",
    "    \n",
    "    model.set_params(**params)\n",
    "\n",
    "    return - cross_val_score2(model, X_train, y_train, 8)"
   ]
  },
  {
   "cell_type": "code",
   "execution_count": 34,
   "metadata": {
    "ExecuteTime": {
     "end_time": "2019-08-13T14:25:23.644818Z",
     "start_time": "2019-08-13T12:42:02.662948Z"
    }
   },
   "outputs": [
    {
     "name": "stdout",
     "output_type": "stream",
     "text": [
      "ROC accuracy: 0.9567467457405775\n",
      "ROC accuracy: 0.963336044474564\n",
      "ROC accuracy: 0.9647586585663408\n",
      "ROC accuracy: 0.9591584467619989\n",
      "ROC accuracy: 0.9625810064516032\n",
      "ROC accuracy: 0.9590554045914841\n",
      "ROC accuracy: 0.9621024255437666\n",
      "ROC accuracy: 0.9622490082815178\n",
      "ROC accuracy: 0.9557141805512451\n",
      "ROC accuracy: 0.9561348707572045\n",
      "ROC accuracy: 0.9565690609627973\n",
      "ROC accuracy: 0.9581682239628199\n",
      "ROC accuracy: 0.9550286805698729\n",
      "ROC accuracy: 0.9595700259322112\n",
      "ROC accuracy: 0.9566089083574226\n",
      "ROC accuracy: 0.9610047972070186\n",
      "ROC accuracy: 0.9629218107901683\n",
      "ROC accuracy: 0.9645582672674383\n",
      "ROC accuracy: 0.9632401151293449\n",
      "ROC accuracy: 0.9630101966573317\n",
      "ROC accuracy: 0.959037332634855\n",
      "ROC accuracy: 0.955117517896528\n",
      "ROC accuracy: 0.9594840029878245\n",
      "ROC accuracy: 0.9628698171029347\n",
      "ROC accuracy: 0.9621010716820361\n",
      "ROC accuracy: 0.9595651260987736\n",
      "ROC accuracy: 0.9596066315324285\n",
      "ROC accuracy: 0.9598380934826607\n",
      "ROC accuracy: 0.9598701315252681\n",
      "ROC accuracy: 0.9602484376112618\n",
      "ROC accuracy: 0.9589004730729325\n",
      "ROC accuracy: 0.9639249033965734\n",
      "ROC accuracy: 0.9563680718378244\n",
      "ROC accuracy: 0.9547432566645853\n",
      "ROC accuracy: 0.9571991261630671\n",
      "ROC accuracy: 0.9587102891654813\n",
      "ROC accuracy: 0.9566416587869113\n",
      "ROC accuracy: 0.9572200853988052\n",
      "ROC accuracy: 0.9614151441752267\n",
      "ROC accuracy: 0.9617437729965892\n"
     ]
    }
   ],
   "source": [
    "study = optuna.create_study()\n",
    "study.optimize(objective, n_trials=5)"
   ]
  },
  {
   "cell_type": "code",
   "execution_count": 38,
   "metadata": {
    "ExecuteTime": {
     "end_time": "2019-08-13T20:27:30.547293Z",
     "start_time": "2019-08-13T20:27:30.506681Z"
    }
   },
   "outputs": [],
   "source": [
    "def objective(trial):\n",
    "    \n",
    "    joblib.dump(study, 'study.pkl')\n",
    "    \n",
    "    num_leaves = trial.suggest_int('num_leaves', 2, 500) \n",
    "    max_depth = trial.suggest_int('max_depth', 2, 300) \n",
    "    n_estimators = trial.suggest_int('n_estimators', 100, 2000) \n",
    "    subsample_for_bin = trial.suggest_int('subsample_for_bin', 100_000, 500_000) \n",
    "    min_child_samples = trial.suggest_int('min_child_samples', 20, 10000) \n",
    "    reg_alpha = trial.suggest_uniform('reg_alpha', 0.0, 2.0) \n",
    "    colsample_bytree = trial.suggest_uniform('colsample_bytree', 0.5, 1.0) \n",
    "    learning_rate = trial.suggest_loguniform('learning_rate', 1e-5, 1e-0)   \n",
    "\n",
    "    params = {\n",
    "        'num_leaves': num_leaves,\n",
    "        'max_depth': max_depth,\n",
    "        'n_estimators': n_estimators,\n",
    "        'subsample_for_bin': subsample_for_bin,\n",
    "        'min_child_samples': min_child_samples,\n",
    "        'reg_alpha': reg_alpha,\n",
    "        'colsample_bytree': colsample_bytree,\n",
    "        'learning_rate': learning_rate\n",
    "    }\n",
    "    \n",
    "    model.set_params(**params)\n",
    "\n",
    "    return - cross_val_score2(model, X_train, y_train, 8)"
   ]
  },
  {
   "cell_type": "code",
   "execution_count": 45,
   "metadata": {
    "ExecuteTime": {
     "end_time": "2019-08-14T06:17:50.524636Z",
     "start_time": "2019-08-14T06:17:50.495719Z"
    }
   },
   "outputs": [],
   "source": [
    "if SEARCH_PARAMS:\n",
    "\n",
    "    if os.path.isfile('study.pkl'):\n",
    "        study = joblib.load('study.pkl')\n",
    "    else:\n",
    "        study = optuna.create_study()\n",
    "    study.optimize(objective, timeout=60*60*9)\n",
    "    \n",
    "    params = study.best_params\n",
    "\n",
    "else:\n",
    "    \n",
    "    params = {'num_leaves': 302,\n",
    "             'max_depth': 157,\n",
    "             'n_estimators': 1200,\n",
    "             'subsample_for_bin': 290858,\n",
    "             'min_child_samples': 79,\n",
    "             'reg_alpha': 1.0919573524807885,\n",
    "             'colsample_bytree': 0.5653288564015742,\n",
    "             'learning_rate': 0.028565794309535042}"
   ]
  },
  {
   "cell_type": "code",
   "execution_count": 46,
   "metadata": {
    "ExecuteTime": {
     "end_time": "2019-08-14T08:55:59.230530Z",
     "start_time": "2019-08-14T06:17:52.180376Z"
    }
   },
   "outputs": [
    {
     "name": "stdout",
     "output_type": "stream",
     "text": [
      "ROC accuracy: 0.9798144733746067\n",
      "ROC accuracy: 0.9784691636285554\n",
      "ROC accuracy: 0.9779377723386475\n",
      "ROC accuracy: 0.9775917288697898\n",
      "ROC accuracy: 0.9801430168439399\n",
      "ROC accuracy: 0.9786529346047034\n",
      "ROC accuracy: 0.9774750702757128\n",
      "ROC accuracy: 0.9774154455916848\n",
      "0.9784\n",
      "{'num_leaves': 302, 'max_depth': 157, 'n_estimators': 1200, 'subsample_for_bin': 290858, 'min_child_samples': 79, 'reg_alpha': 1.0919573524807884, 'colsample_bytree': 0.5653288564015742, 'learning_rate': 0.028565794309535042}\n"
     ]
    }
   ],
   "source": [
    "model = LGBMClassifier(metric='auc')\n",
    "model.set_params(**params)\n",
    "\n",
    "n_fold = 8\n",
    "folds = StratifiedKFold(n_splits=n_fold, shuffle=True)\n",
    "\n",
    "model_scores = []\n",
    "for train_index, valid_index in folds.split(X_train, y_train):\n",
    "    X_train_, X_valid = X_train.iloc[train_index], X_train.iloc[valid_index]\n",
    "    y_train_, y_valid = y_train.iloc[train_index], y_train.iloc[valid_index]\n",
    "    model.fit(X_train_,y_train_)\n",
    "    del X_train_,y_train_\n",
    "    pred=model.predict_proba(X_test)[:,1]\n",
    "    val=model.predict_proba(X_valid)[:,1]\n",
    "    del X_valid\n",
    "    model_scores.append(roc_auc_score(y_valid, val))\n",
    "    print('ROC accuracy: {}'.format(model_scores[-1]))\n",
    "    del val, y_valid\n",
    "    submission['isFraud'] = submission['isFraud'] + pred / n_fold\n",
    "    del pred\n",
    "    \n",
    "model_score = np.round(np.mean(model_scores),4)\n",
    "print(model_score)\n",
    "print(params)"
   ]
  },
  {
   "cell_type": "code",
   "execution_count": 47,
   "metadata": {
    "ExecuteTime": {
     "end_time": "2019-08-14T08:56:00.926561Z",
     "start_time": "2019-08-14T08:55:59.251986Z"
    }
   },
   "outputs": [],
   "source": [
    "submission.to_csv('submission_{}.csv'.format(str(model_score)))"
   ]
  },
  {
   "cell_type": "code",
   "execution_count": null,
   "metadata": {},
   "outputs": [],
   "source": []
  }
 ],
 "metadata": {
  "jupytext": {
   "formats": "ipynb,py:percent"
  },
  "kernelspec": {
   "display_name": "Python 3",
   "language": "python",
   "name": "python3"
  },
  "language_info": {
   "codemirror_mode": {
    "name": "ipython",
    "version": 3
   },
   "file_extension": ".py",
   "mimetype": "text/x-python",
   "name": "python",
   "nbconvert_exporter": "python",
   "pygments_lexer": "ipython3",
   "version": "3.6.8"
  }
 },
 "nbformat": 4,
 "nbformat_minor": 2
}
