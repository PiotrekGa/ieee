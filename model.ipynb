{
 "cells": [
  {
   "cell_type": "code",
   "execution_count": 1,
   "metadata": {
    "ExecuteTime": {
     "end_time": "2019-08-15T10:55:42.589692Z",
     "start_time": "2019-08-15T10:55:42.587274Z"
    }
   },
   "outputs": [],
   "source": [
    "# !rm -r ieee\n",
    "# !rm -r codes\n",
    "# !git clone https://github.com/PiotrekGa/ieee.git\n",
    "# !mv ieee/codes ."
   ]
  },
  {
   "cell_type": "code",
   "execution_count": 2,
   "metadata": {
    "ExecuteTime": {
     "end_time": "2019-08-15T10:55:43.901459Z",
     "start_time": "2019-08-15T10:55:42.598645Z"
    }
   },
   "outputs": [],
   "source": [
    "import os\n",
    "import gc\n",
    "import numpy as np\n",
    "import pandas as pd\n",
    "import joblib\n",
    "from datetime import datetime\n",
    "\n",
    "from lightgbm import LGBMClassifier\n",
    "import optuna\n",
    "\n",
    "from sklearn.metrics import roc_auc_score\n",
    "from sklearn.model_selection import StratifiedKFold, cross_val_score\n",
    "\n",
    "from codes import utils\n",
    "from codes import fe_browser\n",
    "from codes import fe_emails\n",
    "from codes import fe_cards\n",
    "from codes import fe_date\n",
    "from codes import fe_relatives\n",
    "from codes import fe_categorical\n",
    "from codes import prepro\n",
    "from codes import fe_users"
   ]
  },
  {
   "cell_type": "code",
   "execution_count": 3,
   "metadata": {
    "ExecuteTime": {
     "end_time": "2019-08-15T10:55:43.905438Z",
     "start_time": "2019-08-15T10:55:43.903001Z"
    },
    "lines_to_next_cell": 2
   },
   "outputs": [],
   "source": [
    "DATA_PATH = '../input/'\n",
    "SEARCH_PARAMS = False"
   ]
  },
  {
   "cell_type": "code",
   "execution_count": 4,
   "metadata": {
    "ExecuteTime": {
     "end_time": "2019-08-15T10:55:52.268025Z",
     "start_time": "2019-08-15T10:55:43.908472Z"
    },
    "_cell_guid": "79c7e3d0-c299-4dcb-8224-4455121ee9b0",
    "_uuid": "d629ff2d2480ee46fbb7e2d37f6b5fab8052498a",
    "lines_to_next_cell": 2
   },
   "outputs": [],
   "source": [
    "train, test, sample_submission = utils.import_data(DATA_PATH)"
   ]
  },
  {
   "cell_type": "markdown",
   "metadata": {},
   "source": [
    "### Some Feature Engineering\n",
    "\n",
    "drop columns, count encoding, aggregation, fillna"
   ]
  },
  {
   "cell_type": "code",
   "execution_count": 5,
   "metadata": {
    "ExecuteTime": {
     "end_time": "2019-08-15T10:56:02.051222Z",
     "start_time": "2019-08-15T10:55:52.269458Z"
    }
   },
   "outputs": [
    {
     "name": "stdout",
     "output_type": "stream",
     "text": [
      "start\n",
      "hashing finished\n"
     ]
    },
    {
     "name": "stderr",
     "output_type": "stream",
     "text": [
      "/home/pgabrys/data/kaggle/ieee/ieee/codes/fe_users.py:19: FutureWarning: Sorting because non-concatenation axis is not aligned. A future version\n",
      "of pandas will change to not sort by default.\n",
      "\n",
      "To accept the future behavior, pass 'sort=False'.\n",
      "\n",
      "To retain the current behavior and silence the warning, pass 'sort=True'.\n",
      "\n",
      "  all_data = pd.concat([train, test])\n"
     ]
    },
    {
     "name": "stdout",
     "output_type": "stream",
     "text": [
      "concat data finished\n",
      "grouping finished\n",
      "stats calculated\n",
      "merged all data\n"
     ]
    }
   ],
   "source": [
    "train, test = fe_users.users_stats(train, test)"
   ]
  },
  {
   "cell_type": "code",
   "execution_count": 6,
   "metadata": {
    "ExecuteTime": {
     "end_time": "2019-08-15T10:56:04.619847Z",
     "start_time": "2019-08-15T10:56:02.052557Z"
    }
   },
   "outputs": [
    {
     "name": "stdout",
     "output_type": "stream",
     "text": [
      "50 features are going to be dropped for being useless\n"
     ]
    }
   ],
   "source": [
    "train, test = utils.drop_columns(train, test)"
   ]
  },
  {
   "cell_type": "code",
   "execution_count": 7,
   "metadata": {
    "ExecuteTime": {
     "end_time": "2019-08-15T10:56:05.241159Z",
     "start_time": "2019-08-15T10:56:04.621111Z"
    }
   },
   "outputs": [],
   "source": [
    "train, test = fe_browser.latest(train, test)"
   ]
  },
  {
   "cell_type": "code",
   "execution_count": 8,
   "metadata": {
    "ExecuteTime": {
     "end_time": "2019-08-15T10:56:33.235758Z",
     "start_time": "2019-08-15T10:56:05.242487Z"
    }
   },
   "outputs": [],
   "source": [
    "train, test = fe_emails.proton(train, test)\n",
    "\n",
    "train['nulls1'] = train.isna().sum(axis=1)\n",
    "test['nulls1'] = test.isna().sum(axis=1)\n",
    "\n",
    "train, test = fe_emails.mappings(train, test)\n",
    "train, test = fe_emails.labeling(train, test)"
   ]
  },
  {
   "cell_type": "code",
   "execution_count": 9,
   "metadata": {
    "ExecuteTime": {
     "end_time": "2019-08-15T10:56:33.634659Z",
     "start_time": "2019-08-15T10:56:33.238633Z"
    }
   },
   "outputs": [],
   "source": [
    "train, test = fe_cards.stats(train, test)"
   ]
  },
  {
   "cell_type": "code",
   "execution_count": 10,
   "metadata": {
    "ExecuteTime": {
     "end_time": "2019-08-15T10:56:40.981799Z",
     "start_time": "2019-08-15T10:56:33.636379Z"
    }
   },
   "outputs": [],
   "source": [
    "train, test = fe_relatives.divisions(train, test)"
   ]
  },
  {
   "cell_type": "code",
   "execution_count": 11,
   "metadata": {
    "ExecuteTime": {
     "end_time": "2019-08-15T10:56:41.047101Z",
     "start_time": "2019-08-15T10:56:40.983197Z"
    },
    "lines_to_next_cell": 2
   },
   "outputs": [],
   "source": [
    "train, test = fe_date.dates(train, test)"
   ]
  },
  {
   "cell_type": "code",
   "execution_count": 12,
   "metadata": {
    "ExecuteTime": {
     "end_time": "2019-08-15T10:57:00.129487Z",
     "start_time": "2019-08-15T10:56:41.048359Z"
    },
    "lines_to_next_cell": 2
   },
   "outputs": [],
   "source": [
    "train, test = fe_categorical.pairs(train, test)\n",
    "train, test = fe_categorical.wtf(train, test)"
   ]
  },
  {
   "cell_type": "code",
   "execution_count": 13,
   "metadata": {
    "ExecuteTime": {
     "end_time": "2019-08-15T10:57:00.141121Z",
     "start_time": "2019-08-15T10:57:00.130835Z"
    }
   },
   "outputs": [
    {
     "data": {
      "text/plain": [
       "(590540, 436)"
      ]
     },
     "execution_count": 13,
     "metadata": {},
     "output_type": "execute_result"
    }
   ],
   "source": [
    "train.shape"
   ]
  },
  {
   "cell_type": "code",
   "execution_count": 14,
   "metadata": {
    "ExecuteTime": {
     "end_time": "2019-08-15T10:57:10.578681Z",
     "start_time": "2019-08-15T10:57:00.143378Z"
    }
   },
   "outputs": [],
   "source": [
    "X_train = train.copy()\n",
    "X_test = test.copy()\n",
    "\n",
    "del train, test\n",
    "\n",
    "#fill in mean for floats\n",
    "X_train, X_test = prepro.prepro(X_train, X_test)\n",
    "\n",
    "y_train = X_train['isFraud'].copy()\n",
    "X_train = X_train.drop('isFraud', axis=1)"
   ]
  },
  {
   "cell_type": "code",
   "execution_count": 15,
   "metadata": {
    "ExecuteTime": {
     "end_time": "2019-08-15T10:57:16.926683Z",
     "start_time": "2019-08-15T10:57:10.580309Z"
    }
   },
   "outputs": [
    {
     "name": "stdout",
     "output_type": "stream",
     "text": [
      "Mem. usage decreased to 566.00 Mb (26.0% reduction)\n"
     ]
    }
   ],
   "source": [
    "X_train = utils.reduce_mem_usage(X_train)"
   ]
  },
  {
   "cell_type": "markdown",
   "metadata": {},
   "source": [
    "### Model and training"
   ]
  },
  {
   "cell_type": "code",
   "execution_count": 16,
   "metadata": {
    "ExecuteTime": {
     "end_time": "2019-08-15T10:57:16.932510Z",
     "start_time": "2019-08-15T10:57:16.928266Z"
    }
   },
   "outputs": [],
   "source": [
    "submission = sample_submission.copy()\n",
    "submission['isFraud'] = 0"
   ]
  },
  {
   "cell_type": "code",
   "execution_count": 17,
   "metadata": {
    "ExecuteTime": {
     "end_time": "2019-08-15T10:57:16.936451Z",
     "start_time": "2019-08-15T10:57:16.934254Z"
    }
   },
   "outputs": [],
   "source": [
    "model = LGBMClassifier(metric='auc')"
   ]
  },
  {
   "cell_type": "code",
   "execution_count": 18,
   "metadata": {
    "ExecuteTime": {
     "end_time": "2019-08-15T10:57:16.950454Z",
     "start_time": "2019-08-15T10:57:16.937957Z"
    }
   },
   "outputs": [],
   "source": [
    "def cross_val_score2(model, X_train, y_train, n_fold):\n",
    "    \n",
    "    folds = StratifiedKFold(n_splits=n_fold, shuffle=True)\n",
    "    \n",
    "    model_scores = []\n",
    "    for train_index, valid_index in folds.split(X_train, y_train):\n",
    "        X_train_, X_valid = X_train.iloc[train_index], X_train.iloc[valid_index]\n",
    "        y_train_, y_valid = y_train.iloc[train_index], y_train.iloc[valid_index]\n",
    "        model.fit(X_train_,y_train_)\n",
    "        del X_train_,y_train_\n",
    "        val = model.predict_proba(X_valid)[:,1]\n",
    "        del X_valid\n",
    "        model_scores.append(roc_auc_score(y_valid, val))\n",
    "        print('ROC accuracy: {}'.format(model_scores[-1]))\n",
    "        del val, y_valid\n",
    "    \n",
    "    print('')\n",
    "    return np.mean(model_scores)"
   ]
  },
  {
   "cell_type": "code",
   "execution_count": 19,
   "metadata": {
    "ExecuteTime": {
     "end_time": "2019-08-15T10:57:16.959843Z",
     "start_time": "2019-08-15T10:57:16.952014Z"
    }
   },
   "outputs": [],
   "source": [
    "def objective(trial):\n",
    "    \n",
    "    joblib.dump(study, 'study.pkl')\n",
    "    \n",
    "    num_leaves = trial.suggest_int('num_leaves', 300, 310) \n",
    "    max_depth = trial.suggest_int('max_depth', 150, 160) \n",
    "    n_estimators = trial.suggest_int('n_estimators', 1150, 1250) \n",
    "    subsample_for_bin = trial.suggest_int('subsample_for_bin', 285858, 295858) \n",
    "    min_child_samples = trial.suggest_int('min_child_samples', 75, 85) \n",
    "    reg_alpha = trial.suggest_uniform('reg_alpha', 1.0, 1.1) \n",
    "    colsample_bytree = trial.suggest_uniform('colsample_bytree', 0.56, 0.57) \n",
    "    learning_rate = trial.suggest_loguniform('learning_rate', 0.02, 0.03)   \n",
    "\n",
    "    params = {\n",
    "        'num_leaves': num_leaves,\n",
    "        'max_depth': max_depth,\n",
    "        'n_estimators': n_estimators,\n",
    "        'subsample_for_bin': subsample_for_bin,\n",
    "        'min_child_samples': min_child_samples,\n",
    "        'reg_alpha': reg_alpha,\n",
    "        'colsample_bytree': colsample_bytree,\n",
    "        'learning_rate': learning_rate\n",
    "    }\n",
    "    \n",
    "    model.set_params(**params)\n",
    "\n",
    "    return - cross_val_score2(model, X_train, y_train, 8)"
   ]
  },
  {
   "cell_type": "code",
   "execution_count": 20,
   "metadata": {
    "ExecuteTime": {
     "end_time": "2019-08-15T10:57:16.977340Z",
     "start_time": "2019-08-15T10:57:16.961950Z"
    }
   },
   "outputs": [],
   "source": [
    "if SEARCH_PARAMS:\n",
    "\n",
    "    if os.path.isfile('study.pkl'):\n",
    "        study = joblib.load('study.pkl')\n",
    "    else:\n",
    "        study = optuna.create_study()\n",
    "    study.optimize(objective, n_trials=5)\n",
    "    \n",
    "    joblib.dump(study, 'study.pkl')\n",
    "    \n",
    "    params = study.best_params\n",
    "\n",
    "else:\n",
    "    \n",
    "    params = {'num_leaves': 302,\n",
    "             'max_depth': 157,\n",
    "             'n_estimators': 1200,\n",
    "             'subsample_for_bin': 290858,\n",
    "             'min_child_samples': 79,\n",
    "             'reg_alpha': 1.0919573524807885,\n",
    "             'colsample_bytree': 0.5653288564015742,\n",
    "             'learning_rate': 0.028565794309535042}"
   ]
  },
  {
   "cell_type": "code",
   "execution_count": 21,
   "metadata": {
    "ExecuteTime": {
     "end_time": "2019-08-15T10:57:16.987028Z",
     "start_time": "2019-08-15T10:57:16.979403Z"
    }
   },
   "outputs": [],
   "source": [
    "def objective(trial):\n",
    "    \n",
    "    joblib.dump(study, 'study.pkl')\n",
    "    \n",
    "    num_leaves = trial.suggest_int('num_leaves', 2, 500) \n",
    "    max_depth = trial.suggest_int('max_depth', 2, 300) \n",
    "    n_estimators = trial.suggest_int('n_estimators', 50, 2000) \n",
    "    subsample_for_bin = trial.suggest_int('subsample_for_bin', 1_000, 500_000) \n",
    "    min_child_samples = trial.suggest_int('min_child_samples', 20, 100_000) \n",
    "    reg_alpha = trial.suggest_uniform('reg_alpha', 0.0, 2.0) \n",
    "    colsample_bytree = trial.suggest_uniform('colsample_bytree', 0.5, 1.0) \n",
    "    learning_rate = trial.suggest_loguniform('learning_rate', 1e-5, 1e-0)   \n",
    "\n",
    "    params = {\n",
    "        'num_leaves': num_leaves,\n",
    "        'max_depth': max_depth,\n",
    "        'n_estimators': n_estimators,\n",
    "        'subsample_for_bin': subsample_for_bin,\n",
    "        'min_child_samples': min_child_samples,\n",
    "        'reg_alpha': reg_alpha,\n",
    "        'colsample_bytree': colsample_bytree,\n",
    "        'learning_rate': learning_rate\n",
    "    }\n",
    "    \n",
    "    model.set_params(**params)\n",
    "\n",
    "    return - cross_val_score2(model, X_train, y_train, 8)"
   ]
  },
  {
   "cell_type": "code",
   "execution_count": 22,
   "metadata": {
    "ExecuteTime": {
     "end_time": "2019-08-15T10:57:17.004231Z",
     "start_time": "2019-08-15T10:57:16.989500Z"
    }
   },
   "outputs": [],
   "source": [
    "if SEARCH_PARAMS:\n",
    "\n",
    "    if os.path.isfile('study.pkl'):\n",
    "        study = joblib.load('study.pkl')\n",
    "    else:\n",
    "        study = optuna.create_study()\n",
    "    study.optimize(objective, timeout=60*60*9)\n",
    "    \n",
    "    joblib.dump(study, 'study.pkl')\n",
    "    \n",
    "    params = study.best_params\n",
    "\n",
    "else:\n",
    "    \n",
    "    params = {'num_leaves': 280,\n",
    "             'max_depth': 104,\n",
    "             'n_estimators': 1857,\n",
    "             'subsample_for_bin': 486701,\n",
    "             'min_child_samples': 201,\n",
    "             'reg_alpha': 1.2603270316257835,\n",
    "             'colsample_bytree': 0.6015289408690518,\n",
    "             'learning_rate': 0.05929809414975412}"
   ]
  },
  {
   "cell_type": "code",
   "execution_count": 23,
   "metadata": {
    "ExecuteTime": {
     "end_time": "2019-08-15T10:57:17.190091Z",
     "start_time": "2019-08-15T10:57:17.008185Z"
    }
   },
   "outputs": [],
   "source": [
    "model = LGBMClassifier(metric='auc')\n",
    "model.set_params(**params)\n",
    "\n",
    "n_fold = 8\n",
    "folds = StratifiedKFold(n_splits=n_fold, shuffle=True)\n",
    "\n",
    "model_scores = []\n",
    "model_scores_tr = []\n",
    "for train_index, valid_index in folds.split(X_train, y_train):\n",
    "    pass"
   ]
  },
  {
   "cell_type": "code",
   "execution_count": 24,
   "metadata": {
    "ExecuteTime": {
     "end_time": "2019-08-15T11:13:01.391371Z",
     "start_time": "2019-08-15T10:57:17.192796Z"
    }
   },
   "outputs": [
    {
     "name": "stdout",
     "output_type": "stream",
     "text": [
      "ROC accuracy: 0.9337095398448495, ROC train: 0.9462740777957357\n",
      "ROC accuracy: 0.9307622192727658, ROC train: 0.9467711135301886\n",
      "ROC accuracy: 0.9318905317421051, ROC train: 0.948521007115059\n",
      "ROC accuracy: 0.9352611240418174, ROC train: 0.947665617006054\n",
      "ROC accuracy: 0.9392216809994107, ROC train: 0.946997129934992\n",
      "ROC accuracy: 0.9367005750765356, ROC train: 0.9476480999077515\n",
      "ROC accuracy: 0.9331124432819499, ROC train: 0.9504486982426944\n",
      "ROC accuracy: 0.9367193593986736, ROC train: 0.9468805255221646\n",
      "0.9347\n",
      "{'num_leaves': 280, 'max_depth': 104, 'n_estimators': 1857, 'subsample_for_bin': 486701, 'min_child_samples': 201, 'reg_alpha': 1.2603270316257835, 'colsample_bytree': 0.6015289408690518, 'learning_rate': 0.05929809414975412}\n"
     ]
    }
   ],
   "source": [
    "n_fold = 8\n",
    "folds = StratifiedKFold(n_splits=n_fold, shuffle=True)\n",
    "\n",
    "model = LGBMClassifier(metric='auc')\n",
    "model.set_params(**params)\n",
    "\n",
    "model_scores = []\n",
    "model_scores_tr = []\n",
    "for train_index, valid_index in folds.split(X_train, y_train):\n",
    "    \n",
    "    X_train_, X_valid = X_train.iloc[train_index], X_train.iloc[valid_index]\n",
    "    y_train_, y_valid = y_train.iloc[train_index], y_train.iloc[valid_index]\n",
    "    model.fit(X_train_,y_train_)\n",
    "    train_val = model.predict_proba(X_train_)[:,1]\n",
    "    model_scores_tr.append(roc_auc_score(y_train_, train_val))\n",
    "    del X_train_,y_train_, train_val\n",
    "    pred = model.predict_proba(X_test)[:,1]\n",
    "    val = model.predict_proba(X_valid)[:,1]\n",
    "    \n",
    "    del X_valid\n",
    "    model_scores.append(roc_auc_score(y_valid, val))\n",
    "    print('ROC accuracy: {}, ROC train: {}'.format(model_scores[-1], model_scores_tr[-1]))\n",
    "    del val, y_valid\n",
    "    submission['isFraud'] = submission['isFraud'] + pred / n_fold\n",
    "    del pred\n",
    "    gc.collect()\n",
    "    \n",
    "model_score = np.round(np.mean(model_scores),4)\n",
    "print(model_score)\n",
    "print(params)"
   ]
  },
  {
   "cell_type": "code",
   "execution_count": 25,
   "metadata": {
    "ExecuteTime": {
     "end_time": "2019-08-15T11:13:02.736590Z",
     "start_time": "2019-08-15T11:13:01.396730Z"
    }
   },
   "outputs": [],
   "source": [
    "timestamp = str(int(datetime.timestamp(datetime.now())))\n",
    "submission.to_csv('{}_submission_{}.csv'.format(timestamp, str(model_score)))"
   ]
  }
 ],
 "metadata": {
  "jupytext": {
   "formats": "ipynb,py:percent"
  },
  "kernelspec": {
   "display_name": "Python 3",
   "language": "python",
   "name": "python3"
  },
  "language_info": {
   "codemirror_mode": {
    "name": "ipython",
    "version": 3
   },
   "file_extension": ".py",
   "mimetype": "text/x-python",
   "name": "python",
   "nbconvert_exporter": "python",
   "pygments_lexer": "ipython3",
   "version": "3.6.7"
  }
 },
 "nbformat": 4,
 "nbformat_minor": 2
}
